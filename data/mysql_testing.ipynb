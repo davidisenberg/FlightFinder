{
 "cells": [
  {
   "cell_type": "code",
   "execution_count": 1,
   "metadata": {},
   "outputs": [],
   "source": [
    "import sys\n",
    "sys.path.append(\"../\")\n",
    "import data.directrepository as dr\n",
    "import data.flight_repository as fr\n",
    "import pyarrow as pa\n",
    "import pyarrow.parquet as pq\n",
    "import pandas as pd\n",
    "import importlib as im\n",
    "\n",
    "\n",
    "#im.reload(data.directrepository)\n",
    "#im.reload(data.flight_repository)"
   ]
  },
  {
   "cell_type": "code",
   "execution_count": 2,
   "metadata": {},
   "outputs": [
    {
     "name": "stdout",
     "output_type": "stream",
     "text": [
      "Wall time: 91.5 ms\n"
     ]
    },
    {
     "data": {
      "text/html": [
       "<div>\n",
       "<style scoped>\n",
       "    .dataframe tbody tr th:only-of-type {\n",
       "        vertical-align: middle;\n",
       "    }\n",
       "\n",
       "    .dataframe tbody tr th {\n",
       "        vertical-align: top;\n",
       "    }\n",
       "\n",
       "    .dataframe thead th {\n",
       "        text-align: right;\n",
       "    }\n",
       "</style>\n",
       "<table border=\"1\" class=\"dataframe\">\n",
       "  <thead>\n",
       "    <tr style=\"text-align: right;\">\n",
       "      <th></th>\n",
       "      <th>Id</th>\n",
       "      <th>FlyFrom</th>\n",
       "      <th>FlyTo</th>\n",
       "    </tr>\n",
       "  </thead>\n",
       "  <tbody>\n",
       "    <tr>\n",
       "      <th>0</th>\n",
       "      <td>1</td>\n",
       "      <td>FLR</td>\n",
       "      <td>AMS</td>\n",
       "    </tr>\n",
       "    <tr>\n",
       "      <th>1</th>\n",
       "      <td>2</td>\n",
       "      <td>FLR</td>\n",
       "      <td>ANR</td>\n",
       "    </tr>\n",
       "  </tbody>\n",
       "</table>\n",
       "</div>"
      ],
      "text/plain": [
       "   Id FlyFrom FlyTo\n",
       "0   1     FLR   AMS\n",
       "1   2     FLR   ANR"
      ]
     },
     "execution_count": 2,
     "metadata": {},
     "output_type": "execute_result"
    }
   ],
   "source": [
    "%time directs = dr.DirectsRepository().get_directs()\n",
    "directs[:2]"
   ]
  },
  {
   "cell_type": "code",
   "execution_count": 3,
   "metadata": {},
   "outputs": [],
   "source": [
    "#%time flights = fr.FlightsRepository().get_flights()\n",
    "#flights[:2]"
   ]
  },
  {
   "cell_type": "code",
   "execution_count": 4,
   "metadata": {},
   "outputs": [],
   "source": [
    "#table = pa.Table.from_pandas(flights)\n",
    "#pq.write_to_dataset(table, root_path='allflights.parquet' )"
   ]
  },
  {
   "cell_type": "code",
   "execution_count": 5,
   "metadata": {},
   "outputs": [
    {
     "name": "stdout",
     "output_type": "stream",
     "text": [
      "Wall time: 364 ms\n"
     ]
    },
    {
     "data": {
      "text/html": [
       "<div>\n",
       "<style scoped>\n",
       "    .dataframe tbody tr th:only-of-type {\n",
       "        vertical-align: middle;\n",
       "    }\n",
       "\n",
       "    .dataframe tbody tr th {\n",
       "        vertical-align: top;\n",
       "    }\n",
       "\n",
       "    .dataframe thead th {\n",
       "        text-align: right;\n",
       "    }\n",
       "</style>\n",
       "<table border=\"1\" class=\"dataframe\">\n",
       "  <thead>\n",
       "    <tr style=\"text-align: right;\">\n",
       "      <th></th>\n",
       "      <th>Id</th>\n",
       "      <th>FlyFrom</th>\n",
       "      <th>FlyTo</th>\n",
       "      <th>Price</th>\n",
       "      <th>Airline</th>\n",
       "      <th>ArrivalTimeUTC</th>\n",
       "      <th>DepartTimeUTC</th>\n",
       "      <th>FlightNum</th>\n",
       "    </tr>\n",
       "  </thead>\n",
       "  <tbody>\n",
       "    <tr>\n",
       "      <th>0</th>\n",
       "      <td>1</td>\n",
       "      <td>JFK</td>\n",
       "      <td>LHR</td>\n",
       "      <td>362.0</td>\n",
       "      <td>VS</td>\n",
       "      <td>2019-10-17 05:50:00</td>\n",
       "      <td>2019-10-16 23:00:00</td>\n",
       "      <td>4030</td>\n",
       "    </tr>\n",
       "    <tr>\n",
       "      <th>1</th>\n",
       "      <td>2</td>\n",
       "      <td>JFK</td>\n",
       "      <td>LHR</td>\n",
       "      <td>362.0</td>\n",
       "      <td>VS</td>\n",
       "      <td>2019-10-16 05:50:00</td>\n",
       "      <td>2019-10-15 23:00:00</td>\n",
       "      <td>4030</td>\n",
       "    </tr>\n",
       "  </tbody>\n",
       "</table>\n",
       "</div>"
      ],
      "text/plain": [
       "   Id FlyFrom FlyTo  Price Airline      ArrivalTimeUTC       DepartTimeUTC  \\\n",
       "0   1     JFK   LHR  362.0      VS 2019-10-17 05:50:00 2019-10-16 23:00:00   \n",
       "1   2     JFK   LHR  362.0      VS 2019-10-16 05:50:00 2019-10-15 23:00:00   \n",
       "\n",
       "  FlightNum  \n",
       "0      4030  \n",
       "1      4030  "
      ]
     },
     "execution_count": 5,
     "metadata": {},
     "output_type": "execute_result"
    }
   ],
   "source": [
    "%time flights = pq.read_table(\"allflights.parquet\").to_pandas()\n",
    "flights[:2]\n"
   ]
  },
  {
   "cell_type": "code",
   "execution_count": 6,
   "metadata": {},
   "outputs": [
    {
     "name": "stdout",
     "output_type": "stream",
     "text": [
      "Wall time: 2 ms\n"
     ]
    },
    {
     "data": {
      "text/html": [
       "<div>\n",
       "<style scoped>\n",
       "    .dataframe tbody tr th:only-of-type {\n",
       "        vertical-align: middle;\n",
       "    }\n",
       "\n",
       "    .dataframe tbody tr th {\n",
       "        vertical-align: top;\n",
       "    }\n",
       "\n",
       "    .dataframe thead th {\n",
       "        text-align: right;\n",
       "    }\n",
       "</style>\n",
       "<table border=\"1\" class=\"dataframe\">\n",
       "  <thead>\n",
       "    <tr style=\"text-align: right;\">\n",
       "      <th></th>\n",
       "      <th>Id</th>\n",
       "      <th>FlyFrom</th>\n",
       "      <th>FlyTo</th>\n",
       "    </tr>\n",
       "  </thead>\n",
       "  <tbody>\n",
       "    <tr>\n",
       "      <th>0</th>\n",
       "      <td>1</td>\n",
       "      <td>FLR</td>\n",
       "      <td>AMS</td>\n",
       "    </tr>\n",
       "    <tr>\n",
       "      <th>1</th>\n",
       "      <td>2</td>\n",
       "      <td>FLR</td>\n",
       "      <td>ANR</td>\n",
       "    </tr>\n",
       "  </tbody>\n",
       "</table>\n",
       "</div>"
      ],
      "text/plain": [
       "   Id FlyFrom FlyTo\n",
       "0   1     FLR   AMS\n",
       "1   2     FLR   ANR"
      ]
     },
     "execution_count": 6,
     "metadata": {},
     "output_type": "execute_result"
    }
   ],
   "source": [
    "# get directs from target\n",
    "%time dir_tar = directs[directs['FlyFrom'] == \"FLR\" ]\n",
    "dir_tar[:2]"
   ]
  },
  {
   "cell_type": "code",
   "execution_count": 7,
   "metadata": {},
   "outputs": [],
   "source": [
    "import queue\n",
    "from enum import Enum\n",
    "sys.path.append(\"../../\")\n",
    "import services.core.recoservice_df as reco\n",
    "#im.reload(services.core.recoservice_df)\n",
    "from model.flight import Flight\n",
    "from model.direct import Direct\n",
    "import datetime"
   ]
  },
  {
   "cell_type": "code",
   "execution_count": 13,
   "metadata": {},
   "outputs": [
    {
     "name": "stdout",
     "output_type": "stream",
     "text": [
      "JFK at_source \n",
      "EWR at_source \n"
     ]
    }
   ],
   "source": [
    "f1 = Flight(\"JFK\", \"LHR\", 1000, \"DU\", \"\", datetime.datetime(2019, 5, 10, 11, 0, 0),\n",
    "            datetime.datetime(2019, 5, 10, 6, 0, 0), \"123\")\n",
    "f2 = Flight(\"JFK\", \"MIA\", 50, \"DU\", \"\", datetime.datetime(2019, 5, 5, 11, 0, 0),\n",
    "            datetime.datetime(2019, 5, 5, 6, 0, 0), \"456\")\n",
    "f3 = Flight(\"MIA\", \"LHR\", 100, \"DU\", \"\", datetime.datetime(2019, 5, 8, 11, 0, 0),\n",
    "            datetime.datetime(2019, 5, 8, 6, 0, 0), \"456\")\n",
    "f4 = Flight(\"LHR\", \"EWR\", 450, \"DU\", \"\", datetime.datetime(2019, 5, 18, 11, 0, 0),\n",
    "            datetime.datetime(2019, 5, 18, 6, 0, 0), \"123\")\n",
    "f5 = Flight(\"LHR\", \"ATL\", 200, \"DU\", \"\", datetime.datetime(2019, 5, 18, 11, 0, 0),\n",
    "            datetime.datetime(2019, 5, 18, 6, 0, 0), \"123\")\n",
    "f6 = Flight(\"ATL\", \"JFK\", 300, \"DU\", \"\", datetime.datetime(2019, 5, 20, 11, 0, 0),\n",
    "            datetime.datetime(2019, 5, 20, 6, 0, 0), \"123\")\n",
    "f7 = Flight(\"EWR\", \"LHR\", 1200, \"DU\", \"\", datetime.datetime(2019, 5, 16, 11, 0, 0),\n",
    "            datetime.datetime(2019, 5, 16, 6, 0, 0), \"123\")\n",
    "f8 = Flight(\"JFK\", \"LHR\", 1200, \"DU\", \"\", datetime.datetime(2019, 5, 16, 11, 0, 0), #dup of f1 but higher price\n",
    "            datetime.datetime(2019, 5, 16, 6, 0, 0), \"123\")\n",
    "f9 = Flight(\"JFK\", \"LHR\", 5, \"DU\", \"\", datetime.datetime(2019, 5, 10, 11, 0, 0), #dup of f1 but on same day\n",
    "            datetime.datetime(2019, 5, 10, 6, 0, 0), \"123\")\n",
    "fs = [f1, f2, f3, f4, f5, f6, f7, f8,f9]\n",
    "flights = pd.DataFrame.from_records([f.to_dict() for f in fs])\n",
    "\n",
    "sources = [\"JFK\",\"EWR\"]\n",
    "targets = [\"LHR\"]\n",
    "exclusions = []\n",
    "q = reco.RecommendationService().get_initial_queue(sources)\n",
    "for elem in list(q.queue):\n",
    "    print(str(elem))\n"
   ]
  },
  {
   "cell_type": "code",
   "execution_count": 34,
   "metadata": {},
   "outputs": [
    {
     "name": "stdout",
     "output_type": "stream",
     "text": [
      "Current: LHR at_target\n",
      "LHR at_target  | JFK -> MIA | MIA -> LHR\n"
     ]
    }
   ],
   "source": [
    "current = q.get()\n",
    "print(\"Current: \" + current.current_loc + \" \" + current.state.name)\n",
    "for elem in list(q.queue):\n",
    "    print(str(elem))"
   ]
  },
  {
   "cell_type": "code",
   "execution_count": 17,
   "metadata": {},
   "outputs": [
    {
     "name": "stdout",
     "output_type": "stream",
     "text": [
      "MIA at_intermediate_1  | JFK -> MIA\n",
      "LHR at_target  | JFK -> LHR\n",
      "LHR at_target  | EWR -> LHR\n"
     ]
    }
   ],
   "source": [
    "fs = flights\n",
    "int_destinations = fs[fs[\"FlyTo\"].isin(targets)][\"FlyFrom\"].unique()\n",
    "f1 = fs[(fs[\"FlyFrom\"] == current.current_loc) & (~fs[\"FlyTo\"].isin(exclusions)) & ((fs[\"FlyTo\"].isin(int_destinations)) | (fs[\"FlyTo\"].isin(targets)))]\n",
    "f1 = f1.assign(rn = f1.sort_values(['Price']).groupby(['FlyTo']).cumcount()+1).query('rn < 2')\n",
    "for index, first_stop in f1.iterrows():\n",
    "    flight_state = reco.FlightState.at_intermediate_1\n",
    "    if first_stop[\"FlyTo\"] in targets:\n",
    "        flight_state = reco.FlightState.at_target\n",
    "\n",
    "    new_path = current.current_path.copy()\n",
    "    new_path.append(first_stop)\n",
    "\n",
    "    q.put(reco.FlightItem(first_stop[\"FlyTo\"], new_path, flight_state))\n",
    "    \n",
    "for elem in list(q.queue):\n",
    "    print(str(elem))\n"
   ]
  },
  {
   "cell_type": "code",
   "execution_count": 33,
   "metadata": {},
   "outputs": [
    {
     "data": {
      "text/html": [
       "<div>\n",
       "<style scoped>\n",
       "    .dataframe tbody tr th:only-of-type {\n",
       "        vertical-align: middle;\n",
       "    }\n",
       "\n",
       "    .dataframe tbody tr th {\n",
       "        vertical-align: top;\n",
       "    }\n",
       "\n",
       "    .dataframe thead th {\n",
       "        text-align: right;\n",
       "    }\n",
       "</style>\n",
       "<table border=\"1\" class=\"dataframe\">\n",
       "  <thead>\n",
       "    <tr style=\"text-align: right;\">\n",
       "      <th></th>\n",
       "      <th>Airline</th>\n",
       "      <th>ArrivalTimeUTC</th>\n",
       "      <th>DepartTimeUTC</th>\n",
       "      <th>Duration</th>\n",
       "      <th>FlightNum</th>\n",
       "      <th>FlyFrom</th>\n",
       "      <th>FlyTo</th>\n",
       "      <th>Price</th>\n",
       "      <th>rn</th>\n",
       "    </tr>\n",
       "  </thead>\n",
       "  <tbody>\n",
       "    <tr>\n",
       "      <th>3</th>\n",
       "      <td>DU</td>\n",
       "      <td>2019-05-18 11:00:00</td>\n",
       "      <td>2019-05-18 06:00:00</td>\n",
       "      <td></td>\n",
       "      <td>123</td>\n",
       "      <td>LHR</td>\n",
       "      <td>EWR</td>\n",
       "      <td>450</td>\n",
       "      <td>1</td>\n",
       "    </tr>\n",
       "    <tr>\n",
       "      <th>4</th>\n",
       "      <td>DU</td>\n",
       "      <td>2019-05-18 11:00:00</td>\n",
       "      <td>2019-05-18 06:00:00</td>\n",
       "      <td></td>\n",
       "      <td>123</td>\n",
       "      <td>LHR</td>\n",
       "      <td>ATL</td>\n",
       "      <td>200</td>\n",
       "      <td>1</td>\n",
       "    </tr>\n",
       "  </tbody>\n",
       "</table>\n",
       "</div>"
      ],
      "text/plain": [
       "  Airline      ArrivalTimeUTC       DepartTimeUTC Duration FlightNum FlyFrom  \\\n",
       "3      DU 2019-05-18 11:00:00 2019-05-18 06:00:00                123     LHR   \n",
       "4      DU 2019-05-18 11:00:00 2019-05-18 06:00:00                123     LHR   \n",
       "\n",
       "  FlyTo  Price  rn  \n",
       "3   EWR    450   1  \n",
       "4   ATL    200   1  "
      ]
     },
     "execution_count": 33,
     "metadata": {},
     "output_type": "execute_result"
    }
   ],
   "source": [
    "#at target\n",
    "fs = flights\n",
    "prev_arrival_time = current.current_path[len(current.current_path)-1][\"ArrivalTimeUTC\"]\n",
    "int_destinations = fs[fs[\"FlyFrom\"].isin(targets)][\"FlyTo\"].unique()\n",
    "f1 = fs[(fs[\"FlyFrom\"] == current.current_loc) & \n",
    "        (fs[\"DepartTimeUTC\"] > prev_arrival_time + datetime.timedelta(days=2)) & \n",
    "        (fs[\"DepartTimeUTC\"] < prev_arrival_time + datetime.timedelta(days=8)) &\n",
    "        (~fs[\"FlyTo\"].isin(exclusions)) & \n",
    "        ((fs[\"FlyTo\"].isin(int_destinations)) | (fs[\"FlyTo\"].isin(sources)))]\n",
    "f1 = f1.assign(rn = f1.sort_values(['Price']).groupby(['FlyTo']).cumcount()+1).query('rn < 2')\n",
    "\n",
    "\n"
   ]
  },
  {
   "cell_type": "code",
   "execution_count": 73,
   "metadata": {},
   "outputs": [
    {
     "data": {
      "text/plain": [
       "[Airline                            DU\n",
       " ArrivalTimeUTC    2019-05-05 11:00:00\n",
       " DepartTimeUTC     2019-05-05 06:00:00\n",
       " Duration                             \n",
       " FlightNum                         456\n",
       " FlyFrom                           JFK\n",
       " FlyTo                             MIA\n",
       " Price                              50\n",
       " rn                                  1\n",
       " Name: 1, dtype: object]"
      ]
     },
     "execution_count": 73,
     "metadata": {},
     "output_type": "execute_result"
    }
   ],
   "source": [
    "current.current_path[]\n"
   ]
  },
  {
   "cell_type": "code",
   "execution_count": 19,
   "metadata": {},
   "outputs": [
    {
     "ename": "AttributeError",
     "evalue": "'FlightItem' object has no attribute 'print'",
     "output_type": "error",
     "traceback": [
      "\u001b[1;31m---------------------------------------------------------------------------\u001b[0m",
      "\u001b[1;31mAttributeError\u001b[0m                            Traceback (most recent call last)",
      "\u001b[1;32m<ipython-input-19-faca00e6806f>\u001b[0m in \u001b[0;36m<module>\u001b[1;34m\u001b[0m\n\u001b[0;32m     15\u001b[0m \u001b[1;33m\u001b[0m\u001b[0m\n\u001b[0;32m     16\u001b[0m \u001b[1;32mfor\u001b[0m \u001b[0melem\u001b[0m \u001b[1;32min\u001b[0m \u001b[0mlist\u001b[0m\u001b[1;33m(\u001b[0m\u001b[0mq\u001b[0m\u001b[1;33m.\u001b[0m\u001b[0mqueue\u001b[0m\u001b[1;33m)\u001b[0m\u001b[1;33m:\u001b[0m\u001b[1;33m\u001b[0m\u001b[0m\n\u001b[1;32m---> 17\u001b[1;33m     \u001b[0mprint\u001b[0m\u001b[1;33m(\u001b[0m\u001b[0melem\u001b[0m\u001b[1;33m.\u001b[0m\u001b[0mprint\u001b[0m\u001b[1;33m(\u001b[0m\u001b[1;33m)\u001b[0m\u001b[1;33m)\u001b[0m\u001b[1;33m\u001b[0m\u001b[0m\n\u001b[0m",
      "\u001b[1;31mAttributeError\u001b[0m: 'FlightItem' object has no attribute 'print'"
     ]
    }
   ],
   "source": [
    "#at int1\n",
    "\n",
    "prev_arrival_time = current.current_path[len(current.current_path)-1][\"ArrivalTimeUTC\"]\n",
    "fs = flights\n",
    "f1 = fs[(fs[\"FlyFrom\"] == current.current_loc) & (fs[\"FlyTo\"].isin(targets)) & \n",
    "        (fs[\"DepartTimeUTC\"] > prev_arrival_time + datetime.timedelta(days=2)) & \n",
    "        (fs[\"DepartTimeUTC\"] < prev_arrival_time + datetime.timedelta(days=3))]\n",
    "f1 = f1.assign(rn = f1.sort_values(['Price']).groupby(['FlyTo']).cumcount()+1).query('rn < 2')\n",
    "\n",
    "for index, first_stop in f1.iterrows():\n",
    "    new_path = current.current_path.copy()\n",
    "    new_path.append(first_stop)\n",
    "\n",
    "    q.put(reco.FlightItem(first_stop[\"FlyTo\"], new_path, reco.FlightState.at_target))\n",
    "    \n",
    "for elem in list(q.queue):\n",
    "    print(str(elem))"
   ]
  },
  {
   "cell_type": "code",
   "execution_count": null,
   "metadata": {},
   "outputs": [],
   "source": []
  }
 ],
 "metadata": {
  "kernelspec": {
   "display_name": "Python 3",
   "language": "python",
   "name": "python3"
  },
  "language_info": {
   "codemirror_mode": {
    "name": "ipython",
    "version": 3
   },
   "file_extension": ".py",
   "mimetype": "text/x-python",
   "name": "python",
   "nbconvert_exporter": "python",
   "pygments_lexer": "ipython3",
   "version": "3.7.0"
  }
 },
 "nbformat": 4,
 "nbformat_minor": 2
}
