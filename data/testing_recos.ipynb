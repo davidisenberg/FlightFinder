{
 "cells": [
  {
   "cell_type": "code",
   "execution_count": 46,
   "metadata": {},
   "outputs": [
    {
     "data": {
      "text/plain": [
       "<module 'data.flightrepository' from 'C:\\\\Users\\\\Dave\\\\PycharmProjects\\\\FlightFinder\\\\data\\\\flightrepository.py'>"
      ]
     },
     "execution_count": 46,
     "metadata": {},
     "output_type": "execute_result"
    }
   ],
   "source": [
    "import sys\n",
    "sys.path.append(\"../\")\n",
    "import data.directrepository as dr\n",
    "import data.flightrepository as fr\n",
    "import services.core.flightservice as fs\n",
    "import pyarrow as pa\n",
    "import pyarrow.parquet as pq\n",
    "import pandas as pd\n",
    "import importlib as im\n",
    "import queue\n",
    "import json\n",
    "from enum import Enum\n",
    "sys.path.append(\"../../\")\n",
    "import services.core.recoservice_df as reco\n",
    "im.reload(reco)\n",
    "from model.flight import Flight\n",
    "from model.direct import Direct\n",
    "import datetime\n",
    "import os\n",
    "\n",
    "im.reload(reco)\n",
    "im.reload(fs)\n",
    "im.reload(fr)\n",
    "\n"
   ]
  },
  {
   "cell_type": "code",
   "execution_count": 17,
   "metadata": {},
   "outputs": [
    {
     "name": "stdout",
     "output_type": "stream",
     "text": [
      "hello\n",
      "Wall time: 0 ns\n"
     ]
    }
   ],
   "source": [
    "%%time\n",
    "os.chdir(\"C:\\\\Users\\\\Dave\\\\PycharmProjects\\\\FlightFinder\\\\\")\n",
    "\n",
    "print(\"hello\")"
   ]
  },
  {
   "cell_type": "code",
   "execution_count": 20,
   "metadata": {},
   "outputs": [
    {
     "name": "stdout",
     "output_type": "stream",
     "text": [
      "Wall time: 1min 51s\n"
     ]
    }
   ],
   "source": [
    "%%time\n",
    "start = datetime.datetime(2019,10,15)\n",
    "end = datetime.datetime(2019,10,15)\n",
    "# flights = fr.FlightsRepository().get_latest_flights(start, end)\n",
    "flights = fr.FlightsRepository().get_flights_for_dates(start, end)\n",
    "flights[:1]"
   ]
  },
  {
   "cell_type": "code",
   "execution_count": 26,
   "metadata": {},
   "outputs": [
    {
     "name": "stdout",
     "output_type": "stream",
     "text": [
      "Wall time: 57.2 s\n"
     ]
    }
   ],
   "source": [
    "%%time\n",
    "start = datetime.datetime(2019,10,15)\n",
    "end = datetime.datetime(2019,10,15)\n",
    "# flights = fr.FlightsRepository().get_latest_flights(start, end)\n",
    "flights = fr.FlightsRepository().get_flights_for_dates_and_list(start, end, end)\n",
    "flights[:1]"
   ]
  },
  {
   "cell_type": "code",
   "execution_count": 28,
   "metadata": {},
   "outputs": [
    {
     "name": "stdout",
     "output_type": "stream",
     "text": [
      "Wall time: 6.43 s\n"
     ]
    }
   ],
   "source": [
    "%%time\n",
    "start = datetime.datetime(2019,10,15)\n",
    "end = datetime.datetime(2019,10,15)\n",
    "# flights = fr.FlightsRepository().get_latest_flights(start, end)\n",
    "flights = fr.FlightsRepository().get_flights_for_dates_and_list(start, end, end)\n",
    "flights[:1]"
   ]
  },
  {
   "cell_type": "code",
   "execution_count": 48,
   "metadata": {},
   "outputs": [
    {
     "name": "stdout",
     "output_type": "stream",
     "text": [
      "Wall time: 1min 37s\n"
     ]
    }
   ],
   "source": [
    "%%time\n",
    "start = datetime.datetime(2019,10,15)\n",
    "end = datetime.datetime(2019,10,15)\n",
    "# flights = fr.FlightsRepository().get_latest_flights(start, end)\n",
    "flights = fr.FlightsRepository().get_flights_for_dates_and_list(start, end, end)\n",
    "flights[:1]"
   ]
  },
  {
   "cell_type": "code",
   "execution_count": 49,
   "metadata": {},
   "outputs": [
    {
     "data": {
      "text/plain": [
       "(665, 9)"
      ]
     },
     "execution_count": 49,
     "metadata": {},
     "output_type": "execute_result"
    }
   ],
   "source": [
    "flights.shape"
   ]
  },
  {
   "cell_type": "code",
   "execution_count": 10,
   "metadata": {},
   "outputs": [
    {
     "data": {
      "text/plain": [
       "'[[{\"Airline\": \"UA\", \"ArrivalTimeUTC\": \"2019-06-04T17:39:00\", \"DepartTimeUTC\": \"2019-06-04T14:30:00\", \"Duration\": \"3h 9m\", \"FlightNum\": 832, \"FlyFrom\": \"EWR\", \"FlyTo\": \"FLL\", \"Price\": 69, \"AsOfDate\": 20190519, \"rn\": 1}, {\"Airline\": \"NK\", \"ArrivalTimeUTC\": \"2019-06-07T17:37:00\", \"DepartTimeUTC\": \"2019-06-07T14:47:00\", \"Duration\": \"2h 50m\", \"FlightNum\": 859, \"FlyFrom\": \"FLL\", \"FlyTo\": \"CTG\", \"Price\": 107, \"AsOfDate\": 20190519, \"rn\": 1}, {\"Airline\": \"NK\", \"ArrivalTimeUTC\": \"2019-06-12T02:51:00\", \"DepartTimeUTC\": \"2019-06-11T23:40:00\", \"Duration\": \"3h 11m\", \"FlightNum\": 1858, \"FlyFrom\": \"CTG\", \"FlyTo\": \"MCO\", \"Price\": 165, \"AsOfDate\": 20190519, \"rn\": 1}, {\"Airline\": \"UA\", \"ArrivalTimeUTC\": \"2019-06-14T13:53:00\", \"DepartTimeUTC\": \"2019-06-14T11:15:00\", \"Duration\": \"2h 38m\", \"FlightNum\": 2032, \"FlyFrom\": \"MCO\", \"FlyTo\": \"EWR\", \"Price\": 93, \"AsOfDate\": 20190519, \"rn\": 1}], [{\"Airline\": \"UA\", \"ArrivalTimeUTC\": \"2019-06-04T17:39:00\", \"DepartTimeUTC\": \"2019-06-04T14:30:00\", \"Duration\": \"3h 9m\", \"FlightNum\": 832, \"FlyFrom\": \"EWR\", \"FlyTo\": \"FLL\", \"Price\": 69, \"AsOfDate\": 20190519, \"rn\": 1}, {\"Airline\": \"NK\", \"ArrivalTimeUTC\": \"2019-06-07T17:37:00\", \"DepartTimeUTC\": \"2019-06-07T14:47:00\", \"Duration\": \"2h 50m\", \"FlightNum\": 859, \"FlyFrom\": \"FLL\", \"FlyTo\": \"CTG\", \"Price\": 107, \"AsOfDate\": 20190519, \"rn\": 1}, {\"Airline\": \"NK\", \"ArrivalTimeUTC\": \"2019-06-12T02:51:00\", \"DepartTimeUTC\": \"2019-06-11T23:40:00\", \"Duration\": \"3h 11m\", \"FlightNum\": 1858, \"FlyFrom\": \"CTG\", \"FlyTo\": \"MCO\", \"Price\": 165, \"AsOfDate\": 20190519, \"rn\": 1}, {\"Airline\": \"DL\", \"ArrivalTimeUTC\": \"2019-06-15T01:12:00\", \"DepartTimeUTC\": \"2019-06-14T22:29:00\", \"Duration\": \"2h 43m\", \"FlightNum\": 870, \"FlyFrom\": \"MCO\", \"FlyTo\": \"LGA\", \"Price\": 106, \"AsOfDate\": 20190519, \"rn\": 1}], [{\"Airline\": \"UA\", \"ArrivalTimeUTC\": \"2019-06-04T17:39:00\", \"DepartTimeUTC\": \"2019-06-04T14:30:00\", \"Duration\": \"3h 9m\", \"FlightNum\": 832, \"FlyFrom\": \"EWR\", \"FlyTo\": \"FLL\", \"Price\": 69, \"AsOfDate\": 20190519, \"rn\": 1}, {\"Airline\": \"NK\", \"ArrivalTimeUTC\": \"2019-06-07T17:37:00\", \"DepartTimeUTC\": \"2019-06-07T14:47:00\", \"Duration\": \"2h 50m\", \"FlightNum\": 859, \"FlyFrom\": \"FLL\", \"FlyTo\": \"CTG\", \"Price\": 107, \"AsOfDate\": 20190519, \"rn\": 1}, {\"Airline\": \"NK\", \"ArrivalTimeUTC\": \"2019-06-12T02:51:00\", \"DepartTimeUTC\": \"2019-06-11T23:40:00\", \"Duration\": \"3h 11m\", \"FlightNum\": 1858, \"FlyFrom\": \"CTG\", \"FlyTo\": \"MCO\", \"Price\": 165, \"AsOfDate\": 20190519, \"rn\": 1}, {\"Airline\": \"DL\", \"ArrivalTimeUTC\": \"2019-06-15T02:55:00\", \"DepartTimeUTC\": \"2019-06-14T23:59:00\", \"Duration\": \"2h 56m\", \"FlightNum\": 2279, \"FlyFrom\": \"MCO\", \"FlyTo\": \"JFK\", \"Price\": 106, \"AsOfDate\": 20190519, \"rn\": 1}], [{\"Airline\": \"B6\", \"ArrivalTimeUTC\": \"2019-06-04T16:18:00\", \"DepartTimeUTC\": \"2019-06-04T13:03:00\", \"Duration\": \"3h 15m\", \"FlightNum\": 1701, \"FlyFrom\": \"JFK\", \"FlyTo\": \"FLL\", \"Price\": 86, \"AsOfDate\": 20190519, \"rn\": 1}, {\"Airline\": \"NK\", \"ArrivalTimeUTC\": \"2019-06-07T17:37:00\", \"DepartTimeUTC\": \"2019-06-07T14:47:00\", \"Duration\": \"2h 50m\", \"FlightNum\": 859, \"FlyFrom\": \"FLL\", \"FlyTo\": \"CTG\", \"Price\": 107, \"AsOfDate\": 20190519, \"rn\": 1}, {\"Airline\": \"NK\", \"ArrivalTimeUTC\": \"2019-06-12T02:51:00\", \"DepartTimeUTC\": \"2019-06-11T23:40:00\", \"Duration\": \"3h 11m\", \"FlightNum\": 1858, \"FlyFrom\": \"CTG\", \"FlyTo\": \"MCO\", \"Price\": 165, \"AsOfDate\": 20190519, \"rn\": 1}, {\"Airline\": \"UA\", \"ArrivalTimeUTC\": \"2019-06-14T13:53:00\", \"DepartTimeUTC\": \"2019-06-14T11:15:00\", \"Duration\": \"2h 38m\", \"FlightNum\": 2032, \"FlyFrom\": \"MCO\", \"FlyTo\": \"EWR\", \"Price\": 93, \"AsOfDate\": 20190519, \"rn\": 1}], [{\"Airline\": \"B6\", \"ArrivalTimeUTC\": \"2019-06-04T16:18:00\", \"DepartTimeUTC\": \"2019-06-04T13:03:00\", \"Duration\": \"3h 15m\", \"FlightNum\": 1701, \"FlyFrom\": \"JFK\", \"FlyTo\": \"FLL\", \"Price\": 86, \"AsOfDate\": 20190519, \"rn\": 1}, {\"Airline\": \"NK\", \"ArrivalTimeUTC\": \"2019-06-07T17:37:00\", \"DepartTimeUTC\": \"2019-06-07T14:47:00\", \"Duration\": \"2h 50m\", \"FlightNum\": 859, \"FlyFrom\": \"FLL\", \"FlyTo\": \"CTG\", \"Price\": 107, \"AsOfDate\": 20190519, \"rn\": 1}, {\"Airline\": \"NK\", \"ArrivalTimeUTC\": \"2019-06-12T02:51:00\", \"DepartTimeUTC\": \"2019-06-11T23:40:00\", \"Duration\": \"3h 11m\", \"FlightNum\": 1858, \"FlyFrom\": \"CTG\", \"FlyTo\": \"MCO\", \"Price\": 165, \"AsOfDate\": 20190519, \"rn\": 1}, {\"Airline\": \"DL\", \"ArrivalTimeUTC\": \"2019-06-15T02:55:00\", \"DepartTimeUTC\": \"2019-06-14T23:59:00\", \"Duration\": \"2h 56m\", \"FlightNum\": 2279, \"FlyFrom\": \"MCO\", \"FlyTo\": \"JFK\", \"Price\": 106, \"AsOfDate\": 20190519, \"rn\": 1}], [{\"Airline\": \"B6\", \"ArrivalTimeUTC\": \"2019-06-04T16:18:00\", \"DepartTimeUTC\": \"2019-06-04T13:03:00\", \"Duration\": \"3h 15m\", \"FlightNum\": 1701, \"FlyFrom\": \"JFK\", \"FlyTo\": \"FLL\", \"Price\": 86, \"AsOfDate\": 20190519, \"rn\": 1}, {\"Airline\": \"NK\", \"ArrivalTimeUTC\": \"2019-06-07T17:37:00\", \"DepartTimeUTC\": \"2019-06-07T14:47:00\", \"Duration\": \"2h 50m\", \"FlightNum\": 859, \"FlyFrom\": \"FLL\", \"FlyTo\": \"CTG\", \"Price\": 107, \"AsOfDate\": 20190519, \"rn\": 1}, {\"Airline\": \"NK\", \"ArrivalTimeUTC\": \"2019-06-12T02:51:00\", \"DepartTimeUTC\": \"2019-06-11T23:40:00\", \"Duration\": \"3h 11m\", \"FlightNum\": 1858, \"FlyFrom\": \"CTG\", \"FlyTo\": \"MCO\", \"Price\": 165, \"AsOfDate\": 20190519, \"rn\": 1}, {\"Airline\": \"DL\", \"ArrivalTimeUTC\": \"2019-06-15T01:12:00\", \"DepartTimeUTC\": \"2019-06-14T22:29:00\", \"Duration\": \"2h 43m\", \"FlightNum\": 870, \"FlyFrom\": \"MCO\", \"FlyTo\": \"LGA\", \"Price\": 106, \"AsOfDate\": 20190519, \"rn\": 1}], [{\"Airline\": \"UA\", \"ArrivalTimeUTC\": \"2019-06-02T01:11:00\", \"DepartTimeUTC\": \"2019-06-01T22:00:00\", \"Duration\": \"3h 11m\", \"FlightNum\": 2050, \"FlyFrom\": \"EWR\", \"FlyTo\": \"MIA\", \"Price\": 69, \"AsOfDate\": 20190519, \"rn\": 1}, {\"Airline\": \"AA\", \"ArrivalTimeUTC\": \"2019-06-08T17:46:00\", \"DepartTimeUTC\": \"2019-06-08T14:50:00\", \"Duration\": \"2h 56m\", \"FlightNum\": 1145, \"FlyFrom\": \"MIA\", \"FlyTo\": \"CTG\", \"Price\": 158, \"AsOfDate\": 20190519, \"rn\": 1}, {\"Airline\": \"NK\", \"ArrivalTimeUTC\": \"2019-06-12T02:51:00\", \"DepartTimeUTC\": \"2019-06-11T23:40:00\", \"Duration\": \"3h 11m\", \"FlightNum\": 1858, \"FlyFrom\": \"CTG\", \"FlyTo\": \"MCO\", \"Price\": 165, \"AsOfDate\": 20190519, \"rn\": 1}, {\"Airline\": \"UA\", \"ArrivalTimeUTC\": \"2019-06-14T13:53:00\", \"DepartTimeUTC\": \"2019-06-14T11:15:00\", \"Duration\": \"2h 38m\", \"FlightNum\": 2032, \"FlyFrom\": \"MCO\", \"FlyTo\": \"EWR\", \"Price\": 93, \"AsOfDate\": 20190519, \"rn\": 1}], [{\"Airline\": \"UA\", \"ArrivalTimeUTC\": \"2019-06-02T01:11:00\", \"DepartTimeUTC\": \"2019-06-01T22:00:00\", \"Duration\": \"3h 11m\", \"FlightNum\": 2050, \"FlyFrom\": \"EWR\", \"FlyTo\": \"MIA\", \"Price\": 69, \"AsOfDate\": 20190519, \"rn\": 1}, {\"Airline\": \"AA\", \"ArrivalTimeUTC\": \"2019-06-08T17:46:00\", \"DepartTimeUTC\": \"2019-06-08T14:50:00\", \"Duration\": \"2h 56m\", \"FlightNum\": 1145, \"FlyFrom\": \"MIA\", \"FlyTo\": \"CTG\", \"Price\": 158, \"AsOfDate\": 20190519, \"rn\": 1}, {\"Airline\": \"NK\", \"ArrivalTimeUTC\": \"2019-06-12T02:51:00\", \"DepartTimeUTC\": \"2019-06-11T23:40:00\", \"Duration\": \"3h 11m\", \"FlightNum\": 1858, \"FlyFrom\": \"CTG\", \"FlyTo\": \"MCO\", \"Price\": 165, \"AsOfDate\": 20190519, \"rn\": 1}, {\"Airline\": \"DL\", \"ArrivalTimeUTC\": \"2019-06-15T02:55:00\", \"DepartTimeUTC\": \"2019-06-14T23:59:00\", \"Duration\": \"2h 56m\", \"FlightNum\": 2279, \"FlyFrom\": \"MCO\", \"FlyTo\": \"JFK\", \"Price\": 106, \"AsOfDate\": 20190519, \"rn\": 1}], [{\"Airline\": \"UA\", \"ArrivalTimeUTC\": \"2019-06-02T01:11:00\", \"DepartTimeUTC\": \"2019-06-01T22:00:00\", \"Duration\": \"3h 11m\", \"FlightNum\": 2050, \"FlyFrom\": \"EWR\", \"FlyTo\": \"MIA\", \"Price\": 69, \"AsOfDate\": 20190519, \"rn\": 1}, {\"Airline\": \"AA\", \"ArrivalTimeUTC\": \"2019-06-08T17:46:00\", \"DepartTimeUTC\": \"2019-06-08T14:50:00\", \"Duration\": \"2h 56m\", \"FlightNum\": 1145, \"FlyFrom\": \"MIA\", \"FlyTo\": \"CTG\", \"Price\": 158, \"AsOfDate\": 20190519, \"rn\": 1}, {\"Airline\": \"NK\", \"ArrivalTimeUTC\": \"2019-06-12T02:51:00\", \"DepartTimeUTC\": \"2019-06-11T23:40:00\", \"Duration\": \"3h 11m\", \"FlightNum\": 1858, \"FlyFrom\": \"CTG\", \"FlyTo\": \"MCO\", \"Price\": 165, \"AsOfDate\": 20190519, \"rn\": 1}, {\"Airline\": \"DL\", \"ArrivalTimeUTC\": \"2019-06-15T01:12:00\", \"DepartTimeUTC\": \"2019-06-14T22:29:00\", \"Duration\": \"2h 43m\", \"FlightNum\": 870, \"FlyFrom\": \"MCO\", \"FlyTo\": \"LGA\", \"Price\": 106, \"AsOfDate\": 20190519, \"rn\": 1}], [{\"Airline\": \"B6\", \"ArrivalTimeUTC\": \"2019-06-03T17:08:00\", \"DepartTimeUTC\": \"2019-06-03T12:03:00\", \"Duration\": \"5h 5m\", \"FlightNum\": 1533, \"FlyFrom\": \"JFK\", \"FlyTo\": \"CTG\", \"Price\": 277, \"AsOfDate\": 20190519, \"rn\": 1}, {\"Airline\": \"NK\", \"ArrivalTimeUTC\": \"2019-06-08T18:00:00\", \"DepartTimeUTC\": \"2019-06-08T14:49:00\", \"Duration\": \"3h 11m\", \"FlightNum\": 1856, \"FlyFrom\": \"CTG\", \"FlyTo\": \"MCO\", \"Price\": 165, \"AsOfDate\": 20190519, \"rn\": 1}, {\"Airline\": \"NK\", \"ArrivalTimeUTC\": \"2019-06-13T03:05:00\", \"DepartTimeUTC\": \"2019-06-13T00:20:00\", \"Duration\": \"2h 45m\", \"FlightNum\": 150, \"FlyFrom\": \"MCO\", \"FlyTo\": \"EWR\", \"Price\": 75, \"AsOfDate\": 20190519, \"rn\": 1}], [{\"Airline\": \"B6\", \"ArrivalTimeUTC\": \"2019-06-03T17:08:00\", \"DepartTimeUTC\": \"2019-06-03T12:03:00\", \"Duration\": \"5h 5m\", \"FlightNum\": 1533, \"FlyFrom\": \"JFK\", \"FlyTo\": \"CTG\", \"Price\": 277, \"AsOfDate\": 20190519, \"rn\": 1}, {\"Airline\": \"NK\", \"ArrivalTimeUTC\": \"2019-06-07T21:37:00\", \"DepartTimeUTC\": \"2019-06-07T18:37:00\", \"Duration\": \"3h 0m\", \"FlightNum\": 946, \"FlyFrom\": \"CTG\", \"FlyTo\": \"FLL\", \"Price\": 176, \"AsOfDate\": 20190519, \"rn\": 1}, {\"Airline\": \"NK\", \"ArrivalTimeUTC\": \"2019-06-12T23:29:00\", \"DepartTimeUTC\": \"2019-06-12T20:28:00\", \"Duration\": \"3h 1m\", \"FlightNum\": 174, \"FlyFrom\": \"FLL\", \"FlyTo\": \"LGA\", \"Price\": 72, \"AsOfDate\": 20190519, \"rn\": 1}], [{\"Airline\": \"B6\", \"ArrivalTimeUTC\": \"2019-06-03T17:08:00\", \"DepartTimeUTC\": \"2019-06-03T12:03:00\", \"Duration\": \"5h 5m\", \"FlightNum\": 1533, \"FlyFrom\": \"JFK\", \"FlyTo\": \"CTG\", \"Price\": 277, \"AsOfDate\": 20190519, \"rn\": 1}, {\"Airline\": \"NK\", \"ArrivalTimeUTC\": \"2019-06-08T18:00:00\", \"DepartTimeUTC\": \"2019-06-08T14:49:00\", \"Duration\": \"3h 11m\", \"FlightNum\": 1856, \"FlyFrom\": \"CTG\", \"FlyTo\": \"MCO\", \"Price\": 165, \"AsOfDate\": 20190519, \"rn\": 1}, {\"Airline\": \"DL\", \"ArrivalTimeUTC\": \"2019-06-11T14:05:00\", \"DepartTimeUTC\": \"2019-06-11T11:30:00\", \"Duration\": \"2h 35m\", \"FlightNum\": 2058, \"FlyFrom\": \"MCO\", \"FlyTo\": \"JFK\", \"Price\": 85, \"AsOfDate\": 20190519, \"rn\": 1}], [{\"Airline\": \"B6\", \"ArrivalTimeUTC\": \"2019-06-03T17:08:00\", \"DepartTimeUTC\": \"2019-06-03T12:03:00\", \"Duration\": \"5h 5m\", \"FlightNum\": 1533, \"FlyFrom\": \"JFK\", \"FlyTo\": \"CTG\", \"Price\": 277, \"AsOfDate\": 20190519, \"rn\": 1}, {\"Airline\": \"NK\", \"ArrivalTimeUTC\": \"2019-06-08T18:00:00\", \"DepartTimeUTC\": \"2019-06-08T14:49:00\", \"Duration\": \"3h 11m\", \"FlightNum\": 1856, \"FlyFrom\": \"CTG\", \"FlyTo\": \"MCO\", \"Price\": 165, \"AsOfDate\": 20190519, \"rn\": 1}, {\"Airline\": \"DL\", \"ArrivalTimeUTC\": \"2019-06-12T17:28:00\", \"DepartTimeUTC\": \"2019-06-12T14:50:00\", \"Duration\": \"2h 38m\", \"FlightNum\": 1395, \"FlyFrom\": \"MCO\", \"FlyTo\": \"LGA\", \"Price\": 86, \"AsOfDate\": 20190519, \"rn\": 1}], [{\"Airline\": \"B6\", \"ArrivalTimeUTC\": \"2019-06-03T17:08:00\", \"DepartTimeUTC\": \"2019-06-03T12:03:00\", \"Duration\": \"5h 5m\", \"FlightNum\": 1533, \"FlyFrom\": \"JFK\", \"FlyTo\": \"CTG\", \"Price\": 277, \"AsOfDate\": 20190519, \"rn\": 1}, {\"Airline\": \"NK\", \"ArrivalTimeUTC\": \"2019-06-07T21:37:00\", \"DepartTimeUTC\": \"2019-06-07T18:37:00\", \"Duration\": \"3h 0m\", \"FlightNum\": 946, \"FlyFrom\": \"CTG\", \"FlyTo\": \"FLL\", \"Price\": 176, \"AsOfDate\": 20190519, \"rn\": 1}, {\"Airline\": \"NK\", \"ArrivalTimeUTC\": \"2019-06-12T16:00:00\", \"DepartTimeUTC\": \"2019-06-12T12:55:00\", \"Duration\": \"3h 5m\", \"FlightNum\": 522, \"FlyFrom\": \"FLL\", \"FlyTo\": \"EWR\", \"Price\": 86, \"AsOfDate\": 20190519, \"rn\": 1}], [{\"Airline\": \"B6\", \"ArrivalTimeUTC\": \"2019-06-03T17:08:00\", \"DepartTimeUTC\": \"2019-06-03T12:03:00\", \"Duration\": \"5h 5m\", \"FlightNum\": 1533, \"FlyFrom\": \"JFK\", \"FlyTo\": \"CTG\", \"Price\": 277, \"AsOfDate\": 20190519, \"rn\": 1}, {\"Airline\": \"NK\", \"ArrivalTimeUTC\": \"2019-06-07T21:37:00\", \"DepartTimeUTC\": \"2019-06-07T18:37:00\", \"Duration\": \"3h 0m\", \"FlightNum\": 946, \"FlyFrom\": \"CTG\", \"FlyTo\": \"FLL\", \"Price\": 176, \"AsOfDate\": 20190519, \"rn\": 1}, {\"Airline\": \"DL\", \"ArrivalTimeUTC\": \"2019-06-12T17:59:00\", \"DepartTimeUTC\": \"2019-06-12T15:00:00\", \"Duration\": \"2h 59m\", \"FlightNum\": 2938, \"FlyFrom\": \"FLL\", \"FlyTo\": \"JFK\", \"Price\": 86, \"AsOfDate\": 20190519, \"rn\": 1}], [{\"Airline\": \"UA\", \"ArrivalTimeUTC\": \"2019-06-02T02:30:00\", \"DepartTimeUTC\": \"2019-06-01T23:30:00\", \"Duration\": \"3h 0m\", \"FlightNum\": 1417, \"FlyFrom\": \"EWR\", \"FlyTo\": \"MCO\", \"Price\": 57, \"AsOfDate\": 20190519, \"rn\": 1}, {\"Airline\": \"NK\", \"ArrivalTimeUTC\": \"2019-06-11T22:45:00\", \"DepartTimeUTC\": \"2019-06-11T19:30:00\", \"Duration\": \"3h 15m\", \"FlightNum\": 1857, \"FlyFrom\": \"MCO\", \"FlyTo\": \"CTG\", \"Price\": 98, \"AsOfDate\": 20190519, \"rn\": 1}, {\"Airline\": \"B6\", \"ArrivalTimeUTC\": \"2019-06-14T23:18:00\", \"DepartTimeUTC\": \"2019-06-14T18:10:00\", \"Duration\": \"5h 8m\", \"FlightNum\": 1532, \"FlyFrom\": \"CTG\", \"FlyTo\": \"JFK\", \"Price\": 428, \"AsOfDate\": 20190519, \"rn\": 1}], [{\"Airline\": \"UA\", \"ArrivalTimeUTC\": \"2019-06-04T17:39:00\", \"DepartTimeUTC\": \"2019-06-04T14:30:00\", \"Duration\": \"3h 9m\", \"FlightNum\": 832, \"FlyFrom\": \"EWR\", \"FlyTo\": \"FLL\", \"Price\": 69, \"AsOfDate\": 20190519, \"rn\": 1}, {\"Airline\": \"NK\", \"ArrivalTimeUTC\": \"2019-06-07T17:37:00\", \"DepartTimeUTC\": \"2019-06-07T14:47:00\", \"Duration\": \"2h 50m\", \"FlightNum\": 859, \"FlyFrom\": \"FLL\", \"FlyTo\": \"CTG\", \"Price\": 107, \"AsOfDate\": 20190519, \"rn\": 1}, {\"Airline\": \"B6\", \"ArrivalTimeUTC\": \"2019-06-14T23:18:00\", \"DepartTimeUTC\": \"2019-06-14T18:10:00\", \"Duration\": \"5h 8m\", \"FlightNum\": 1532, \"FlyFrom\": \"CTG\", \"FlyTo\": \"JFK\", \"Price\": 428, \"AsOfDate\": 20190519, \"rn\": 1}], [{\"Airline\": \"B6\", \"ArrivalTimeUTC\": \"2019-06-03T17:08:00\", \"DepartTimeUTC\": \"2019-06-03T12:03:00\", \"Duration\": \"5h 5m\", \"FlightNum\": 1533, \"FlyFrom\": \"JFK\", \"FlyTo\": \"CTG\", \"Price\": 277, \"AsOfDate\": 20190519, \"rn\": 1}, {\"Airline\": \"AA\", \"ArrivalTimeUTC\": \"2019-06-06T21:45:00\", \"DepartTimeUTC\": \"2019-06-06T18:36:00\", \"Duration\": \"3h 9m\", \"FlightNum\": 1144, \"FlyFrom\": \"CTG\", \"FlyTo\": \"MIA\", \"Price\": 244, \"AsOfDate\": 20190519, \"rn\": 1}, {\"Airline\": \"AA\", \"ArrivalTimeUTC\": \"2019-06-13T03:49:00\", \"DepartTimeUTC\": \"2019-06-13T00:45:00\", \"Duration\": \"3h 4m\", \"FlightNum\": 360, \"FlyFrom\": \"MIA\", \"FlyTo\": \"LGA\", \"Price\": 87, \"AsOfDate\": 20190519, \"rn\": 1}], [{\"Airline\": \"DL\", \"ArrivalTimeUTC\": \"2019-06-05T02:36:00\", \"DepartTimeUTC\": \"2019-06-04T23:29:00\", \"Duration\": \"3h 7m\", \"FlightNum\": 1885, \"FlyFrom\": \"JFK\", \"FlyTo\": \"MCO\", \"Price\": 85, \"AsOfDate\": 20190519, \"rn\": 1}, {\"Airline\": \"NK\", \"ArrivalTimeUTC\": \"2019-06-11T22:45:00\", \"DepartTimeUTC\": \"2019-06-11T19:30:00\", \"Duration\": \"3h 15m\", \"FlightNum\": 1857, \"FlyFrom\": \"MCO\", \"FlyTo\": \"CTG\", \"Price\": 98, \"AsOfDate\": 20190519, \"rn\": 1}, {\"Airline\": \"B6\", \"ArrivalTimeUTC\": \"2019-06-14T23:18:00\", \"DepartTimeUTC\": \"2019-06-14T18:10:00\", \"Duration\": \"5h 8m\", \"FlightNum\": 1532, \"FlyFrom\": \"CTG\", \"FlyTo\": \"JFK\", \"Price\": 428, \"AsOfDate\": 20190519, \"rn\": 1}], [{\"Airline\": \"DL\", \"ArrivalTimeUTC\": \"2019-06-05T03:38:00\", \"DepartTimeUTC\": \"2019-06-05T00:35:00\", \"Duration\": \"3h 3m\", \"FlightNum\": 848, \"FlyFrom\": \"LGA\", \"FlyTo\": \"MCO\", \"Price\": 85, \"AsOfDate\": 20190519, \"rn\": 1}, {\"Airline\": \"NK\", \"ArrivalTimeUTC\": \"2019-06-11T22:45:00\", \"DepartTimeUTC\": \"2019-06-11T19:30:00\", \"Duration\": \"3h 15m\", \"FlightNum\": 1857, \"FlyFrom\": \"MCO\", \"FlyTo\": \"CTG\", \"Price\": 98, \"AsOfDate\": 20190519, \"rn\": 1}, {\"Airline\": \"B6\", \"ArrivalTimeUTC\": \"2019-06-14T23:18:00\", \"DepartTimeUTC\": \"2019-06-14T18:10:00\", \"Duration\": \"5h 8m\", \"FlightNum\": 1532, \"FlyFrom\": \"CTG\", \"FlyTo\": \"JFK\", \"Price\": 428, \"AsOfDate\": 20190519, \"rn\": 1}], [{\"Airline\": \"B6\", \"ArrivalTimeUTC\": \"2019-06-03T17:08:00\", \"DepartTimeUTC\": \"2019-06-03T12:03:00\", \"Duration\": \"5h 5m\", \"FlightNum\": 1533, \"FlyFrom\": \"JFK\", \"FlyTo\": \"CTG\", \"Price\": 277, \"AsOfDate\": 20190519, \"rn\": 1}, {\"Airline\": \"AA\", \"ArrivalTimeUTC\": \"2019-06-06T21:45:00\", \"DepartTimeUTC\": \"2019-06-06T18:36:00\", \"Duration\": \"3h 9m\", \"FlightNum\": 1144, \"FlyFrom\": \"CTG\", \"FlyTo\": \"MIA\", \"Price\": 244, \"AsOfDate\": 20190519, \"rn\": 1}, {\"Airline\": \"DL\", \"ArrivalTimeUTC\": \"2019-06-12T14:26:00\", \"DepartTimeUTC\": \"2019-06-12T11:25:00\", \"Duration\": \"3h 1m\", \"FlightNum\": 2732, \"FlyFrom\": \"MIA\", \"FlyTo\": \"JFK\", \"Price\": 91, \"AsOfDate\": 20190519, \"rn\": 1}], [{\"Airline\": \"B6\", \"ArrivalTimeUTC\": \"2019-06-04T16:18:00\", \"DepartTimeUTC\": \"2019-06-04T13:03:00\", \"Duration\": \"3h 15m\", \"FlightNum\": 1701, \"FlyFrom\": \"JFK\", \"FlyTo\": \"FLL\", \"Price\": 86, \"AsOfDate\": 20190519, \"rn\": 1}, {\"Airline\": \"NK\", \"ArrivalTimeUTC\": \"2019-06-07T17:37:00\", \"DepartTimeUTC\": \"2019-06-07T14:47:00\", \"Duration\": \"2h 50m\", \"FlightNum\": 859, \"FlyFrom\": \"FLL\", \"FlyTo\": \"CTG\", \"Price\": 107, \"AsOfDate\": 20190519, \"rn\": 1}, {\"Airline\": \"B6\", \"ArrivalTimeUTC\": \"2019-06-14T23:18:00\", \"DepartTimeUTC\": \"2019-06-14T18:10:00\", \"Duration\": \"5h 8m\", \"FlightNum\": 1532, \"FlyFrom\": \"CTG\", \"FlyTo\": \"JFK\", \"Price\": 428, \"AsOfDate\": 20190519, \"rn\": 1}], [{\"Airline\": \"UA\", \"ArrivalTimeUTC\": \"2019-06-02T01:11:00\", \"DepartTimeUTC\": \"2019-06-01T22:00:00\", \"Duration\": \"3h 11m\", \"FlightNum\": 2050, \"FlyFrom\": \"EWR\", \"FlyTo\": \"MIA\", \"Price\": 69, \"AsOfDate\": 20190519, \"rn\": 1}, {\"Airline\": \"AA\", \"ArrivalTimeUTC\": \"2019-06-08T17:46:00\", \"DepartTimeUTC\": \"2019-06-08T14:50:00\", \"Duration\": \"2h 56m\", \"FlightNum\": 1145, \"FlyFrom\": \"MIA\", \"FlyTo\": \"CTG\", \"Price\": 158, \"AsOfDate\": 20190519, \"rn\": 1}, {\"Airline\": \"B6\", \"ArrivalTimeUTC\": \"2019-06-14T23:18:00\", \"DepartTimeUTC\": \"2019-06-14T18:10:00\", \"Duration\": \"5h 8m\", \"FlightNum\": 1532, \"FlyFrom\": \"CTG\", \"FlyTo\": \"JFK\", \"Price\": 428, \"AsOfDate\": 20190519, \"rn\": 1}], [{\"Airline\": \"B6\", \"ArrivalTimeUTC\": \"2019-06-03T17:08:00\", \"DepartTimeUTC\": \"2019-06-03T12:03:00\", \"Duration\": \"5h 5m\", \"FlightNum\": 1533, \"FlyFrom\": \"JFK\", \"FlyTo\": \"CTG\", \"Price\": 277, \"AsOfDate\": 20190519, \"rn\": 1}, {\"Airline\": \"AA\", \"ArrivalTimeUTC\": \"2019-06-06T21:45:00\", \"DepartTimeUTC\": \"2019-06-06T18:36:00\", \"Duration\": \"3h 9m\", \"FlightNum\": 1144, \"FlyFrom\": \"CTG\", \"FlyTo\": \"MIA\", \"Price\": 244, \"AsOfDate\": 20190519, \"rn\": 1}, {\"Airline\": \"AA\", \"ArrivalTimeUTC\": \"2019-06-15T02:47:00\", \"DepartTimeUTC\": \"2019-06-14T23:45:00\", \"Duration\": \"3h 2m\", \"FlightNum\": 322, \"FlyFrom\": \"MIA\", \"FlyTo\": \"EWR\", \"Price\": 148, \"AsOfDate\": 20190519, \"rn\": 1}], [{\"Airline\": \"NK\", \"ArrivalTimeUTC\": \"2019-06-05T20:49:00\", \"DepartTimeUTC\": \"2019-06-05T18:25:00\", \"Duration\": \"2h 24m\", \"FlightNum\": 805, \"FlyFrom\": \"EWR\", \"FlyTo\": \"ATL\", \"Price\": 76, \"AsOfDate\": 20190519, \"rn\": 1}, {\"Airline\": \"DL\", \"ArrivalTimeUTC\": \"2019-06-08T17:50:00\", \"DepartTimeUTC\": \"2019-06-08T13:49:00\", \"Duration\": \"4h 1m\", \"FlightNum\": 989, \"FlyFrom\": \"ATL\", \"FlyTo\": \"CTG\", \"Price\": 375, \"AsOfDate\": 20190519, \"rn\": 1}, {\"Airline\": \"NK\", \"ArrivalTimeUTC\": \"2019-06-12T02:51:00\", \"DepartTimeUTC\": \"2019-06-11T23:40:00\", \"Duration\": \"3h 11m\", \"FlightNum\": 1858, \"FlyFrom\": \"CTG\", \"FlyTo\": \"MCO\", \"Price\": 165, \"AsOfDate\": 20190519, \"rn\": 1}, {\"Airline\": \"UA\", \"ArrivalTimeUTC\": \"2019-06-14T13:53:00\", \"DepartTimeUTC\": \"2019-06-14T11:15:00\", \"Duration\": \"2h 38m\", \"FlightNum\": 2032, \"FlyFrom\": \"MCO\", \"FlyTo\": \"EWR\", \"Price\": 93, \"AsOfDate\": 20190519, \"rn\": 1}], [{\"Airline\": \"F9\", \"ArrivalTimeUTC\": \"2019-06-02T00:42:00\", \"DepartTimeUTC\": \"2019-06-01T21:57:00\", \"Duration\": \"2h 45m\", \"FlightNum\": 1511, \"FlyFrom\": \"LGA\", \"FlyTo\": \"ATL\", \"Price\": 86, \"AsOfDate\": 20190519, \"rn\": 1}, {\"Airline\": \"DL\", \"ArrivalTimeUTC\": \"2019-06-08T17:50:00\", \"DepartTimeUTC\": \"2019-06-08T13:49:00\", \"Duration\": \"4h 1m\", \"FlightNum\": 989, \"FlyFrom\": \"ATL\", \"FlyTo\": \"CTG\", \"Price\": 375, \"AsOfDate\": 20190519, \"rn\": 1}, {\"Airline\": \"NK\", \"ArrivalTimeUTC\": \"2019-06-12T02:51:00\", \"DepartTimeUTC\": \"2019-06-11T23:40:00\", \"Duration\": \"3h 11m\", \"FlightNum\": 1858, \"FlyFrom\": \"CTG\", \"FlyTo\": \"MCO\", \"Price\": 165, \"AsOfDate\": 20190519, \"rn\": 1}, {\"Airline\": \"UA\", \"ArrivalTimeUTC\": \"2019-06-14T13:53:00\", \"DepartTimeUTC\": \"2019-06-14T11:15:00\", \"Duration\": \"2h 38m\", \"FlightNum\": 2032, \"FlyFrom\": \"MCO\", \"FlyTo\": \"EWR\", \"Price\": 93, \"AsOfDate\": 20190519, \"rn\": 1}], [{\"Airline\": \"NK\", \"ArrivalTimeUTC\": \"2019-06-05T20:49:00\", \"DepartTimeUTC\": \"2019-06-05T18:25:00\", \"Duration\": \"2h 24m\", \"FlightNum\": 805, \"FlyFrom\": \"EWR\", \"FlyTo\": \"ATL\", \"Price\": 76, \"AsOfDate\": 20190519, \"rn\": 1}, {\"Airline\": \"DL\", \"ArrivalTimeUTC\": \"2019-06-08T17:50:00\", \"DepartTimeUTC\": \"2019-06-08T13:49:00\", \"Duration\": \"4h 1m\", \"FlightNum\": 989, \"FlyFrom\": \"ATL\", \"FlyTo\": \"CTG\", \"Price\": 375, \"AsOfDate\": 20190519, \"rn\": 1}, {\"Airline\": \"NK\", \"ArrivalTimeUTC\": \"2019-06-12T02:51:00\", \"DepartTimeUTC\": \"2019-06-11T23:40:00\", \"Duration\": \"3h 11m\", \"FlightNum\": 1858, \"FlyFrom\": \"CTG\", \"FlyTo\": \"MCO\", \"Price\": 165, \"AsOfDate\": 20190519, \"rn\": 1}, {\"Airline\": \"DL\", \"ArrivalTimeUTC\": \"2019-06-15T02:55:00\", \"DepartTimeUTC\": \"2019-06-14T23:59:00\", \"Duration\": \"2h 56m\", \"FlightNum\": 2279, \"FlyFrom\": \"MCO\", \"FlyTo\": \"JFK\", \"Price\": 106, \"AsOfDate\": 20190519, \"rn\": 1}], [{\"Airline\": \"NK\", \"ArrivalTimeUTC\": \"2019-06-05T20:49:00\", \"DepartTimeUTC\": \"2019-06-05T18:25:00\", \"Duration\": \"2h 24m\", \"FlightNum\": 805, \"FlyFrom\": \"EWR\", \"FlyTo\": \"ATL\", \"Price\": 76, \"AsOfDate\": 20190519, \"rn\": 1}, {\"Airline\": \"DL\", \"ArrivalTimeUTC\": \"2019-06-08T17:50:00\", \"DepartTimeUTC\": \"2019-06-08T13:49:00\", \"Duration\": \"4h 1m\", \"FlightNum\": 989, \"FlyFrom\": \"ATL\", \"FlyTo\": \"CTG\", \"Price\": 375, \"AsOfDate\": 20190519, \"rn\": 1}, {\"Airline\": \"NK\", \"ArrivalTimeUTC\": \"2019-06-12T02:51:00\", \"DepartTimeUTC\": \"2019-06-11T23:40:00\", \"Duration\": \"3h 11m\", \"FlightNum\": 1858, \"FlyFrom\": \"CTG\", \"FlyTo\": \"MCO\", \"Price\": 165, \"AsOfDate\": 20190519, \"rn\": 1}, {\"Airline\": \"DL\", \"ArrivalTimeUTC\": \"2019-06-15T01:12:00\", \"DepartTimeUTC\": \"2019-06-14T22:29:00\", \"Duration\": \"2h 43m\", \"FlightNum\": 870, \"FlyFrom\": \"MCO\", \"FlyTo\": \"LGA\", \"Price\": 106, \"AsOfDate\": 20190519, \"rn\": 1}], [{\"Airline\": \"F9\", \"ArrivalTimeUTC\": \"2019-06-02T00:42:00\", \"DepartTimeUTC\": \"2019-06-01T21:57:00\", \"Duration\": \"2h 45m\", \"FlightNum\": 1511, \"FlyFrom\": \"LGA\", \"FlyTo\": \"ATL\", \"Price\": 86, \"AsOfDate\": 20190519, \"rn\": 1}, {\"Airline\": \"DL\", \"ArrivalTimeUTC\": \"2019-06-08T17:50:00\", \"DepartTimeUTC\": \"2019-06-08T13:49:00\", \"Duration\": \"4h 1m\", \"FlightNum\": 989, \"FlyFrom\": \"ATL\", \"FlyTo\": \"CTG\", \"Price\": 375, \"AsOfDate\": 20190519, \"rn\": 1}, {\"Airline\": \"NK\", \"ArrivalTimeUTC\": \"2019-06-12T02:51:00\", \"DepartTimeUTC\": \"2019-06-11T23:40:00\", \"Duration\": \"3h 11m\", \"FlightNum\": 1858, \"FlyFrom\": \"CTG\", \"FlyTo\": \"MCO\", \"Price\": 165, \"AsOfDate\": 20190519, \"rn\": 1}, {\"Airline\": \"DL\", \"ArrivalTimeUTC\": \"2019-06-15T02:55:00\", \"DepartTimeUTC\": \"2019-06-14T23:59:00\", \"Duration\": \"2h 56m\", \"FlightNum\": 2279, \"FlyFrom\": \"MCO\", \"FlyTo\": \"JFK\", \"Price\": 106, \"AsOfDate\": 20190519, \"rn\": 1}], [{\"Airline\": \"F9\", \"ArrivalTimeUTC\": \"2019-06-02T00:42:00\", \"DepartTimeUTC\": \"2019-06-01T21:57:00\", \"Duration\": \"2h 45m\", \"FlightNum\": 1511, \"FlyFrom\": \"LGA\", \"FlyTo\": \"ATL\", \"Price\": 86, \"AsOfDate\": 20190519, \"rn\": 1}, {\"Airline\": \"DL\", \"ArrivalTimeUTC\": \"2019-06-08T17:50:00\", \"DepartTimeUTC\": \"2019-06-08T13:49:00\", \"Duration\": \"4h 1m\", \"FlightNum\": 989, \"FlyFrom\": \"ATL\", \"FlyTo\": \"CTG\", \"Price\": 375, \"AsOfDate\": 20190519, \"rn\": 1}, {\"Airline\": \"NK\", \"ArrivalTimeUTC\": \"2019-06-12T02:51:00\", \"DepartTimeUTC\": \"2019-06-11T23:40:00\", \"Duration\": \"3h 11m\", \"FlightNum\": 1858, \"FlyFrom\": \"CTG\", \"FlyTo\": \"MCO\", \"Price\": 165, \"AsOfDate\": 20190519, \"rn\": 1}, {\"Airline\": \"DL\", \"ArrivalTimeUTC\": \"2019-06-15T01:12:00\", \"DepartTimeUTC\": \"2019-06-14T22:29:00\", \"Duration\": \"2h 43m\", \"FlightNum\": 870, \"FlyFrom\": \"MCO\", \"FlyTo\": \"LGA\", \"Price\": 106, \"AsOfDate\": 20190519, \"rn\": 1}], [{\"Airline\": \"B6\", \"ArrivalTimeUTC\": \"2019-06-03T17:08:00\", \"DepartTimeUTC\": \"2019-06-03T12:03:00\", \"Duration\": \"5h 5m\", \"FlightNum\": 1533, \"FlyFrom\": \"JFK\", \"FlyTo\": \"CTG\", \"Price\": 277, \"AsOfDate\": 20190519, \"rn\": 1}, {\"Airline\": \"B6\", \"ArrivalTimeUTC\": \"2019-06-08T23:14:00\", \"DepartTimeUTC\": \"2019-06-08T18:10:00\", \"Duration\": \"5h 4m\", \"FlightNum\": 1532, \"FlyFrom\": \"CTG\", \"FlyTo\": \"JFK\", \"Price\": 476, \"AsOfDate\": 20190519, \"rn\": 1}], [{\"Airline\": \"B6\", \"ArrivalTimeUTC\": \"2019-06-03T17:08:00\", \"DepartTimeUTC\": \"2019-06-03T12:03:00\", \"Duration\": \"5h 5m\", \"FlightNum\": 1533, \"FlyFrom\": \"JFK\", \"FlyTo\": \"CTG\", \"Price\": 277, \"AsOfDate\": 20190519, \"rn\": 1}, {\"Airline\": \"DL\", \"ArrivalTimeUTC\": \"2019-06-08T23:01:00\", \"DepartTimeUTC\": \"2019-06-08T18:50:00\", \"Duration\": \"4h 11m\", \"FlightNum\": 984, \"FlyFrom\": \"CTG\", \"FlyTo\": \"ATL\", \"Price\": 502, \"AsOfDate\": 20190519, \"rn\": 1}, {\"Airline\": \"NK\", \"ArrivalTimeUTC\": \"2019-06-11T17:36:00\", \"DepartTimeUTC\": \"2019-06-11T15:14:00\", \"Duration\": \"2h 22m\", \"FlightNum\": 1163, \"FlyFrom\": \"ATL\", \"FlyTo\": \"EWR\", \"Price\": 76, \"AsOfDate\": 20190519, \"rn\": 1}], [{\"Airline\": \"NK\", \"ArrivalTimeUTC\": \"2019-06-05T20:49:00\", \"DepartTimeUTC\": \"2019-06-05T18:25:00\", \"Duration\": \"2h 24m\", \"FlightNum\": 805, \"FlyFrom\": \"EWR\", \"FlyTo\": \"ATL\", \"Price\": 76, \"AsOfDate\": 20190519, \"rn\": 1}, {\"Airline\": \"DL\", \"ArrivalTimeUTC\": \"2019-06-08T17:50:00\", \"DepartTimeUTC\": \"2019-06-08T13:49:00\", \"Duration\": \"4h 1m\", \"FlightNum\": 989, \"FlyFrom\": \"ATL\", \"FlyTo\": \"CTG\", \"Price\": 375, \"AsOfDate\": 20190519, \"rn\": 1}, {\"Airline\": \"B6\", \"ArrivalTimeUTC\": \"2019-06-14T23:18:00\", \"DepartTimeUTC\": \"2019-06-14T18:10:00\", \"Duration\": \"5h 8m\", \"FlightNum\": 1532, \"FlyFrom\": \"CTG\", \"FlyTo\": \"JFK\", \"Price\": 428, \"AsOfDate\": 20190519, \"rn\": 1}], [{\"Airline\": \"B6\", \"ArrivalTimeUTC\": \"2019-06-03T17:08:00\", \"DepartTimeUTC\": \"2019-06-03T12:03:00\", \"Duration\": \"5h 5m\", \"FlightNum\": 1533, \"FlyFrom\": \"JFK\", \"FlyTo\": \"CTG\", \"Price\": 277, \"AsOfDate\": 20190519, \"rn\": 1}, {\"Airline\": \"DL\", \"ArrivalTimeUTC\": \"2019-06-08T23:01:00\", \"DepartTimeUTC\": \"2019-06-08T18:50:00\", \"Duration\": \"4h 11m\", \"FlightNum\": 984, \"FlyFrom\": \"CTG\", \"FlyTo\": \"ATL\", \"Price\": 502, \"AsOfDate\": 20190519, \"rn\": 1}, {\"Airline\": \"DL\", \"ArrivalTimeUTC\": \"2019-06-13T03:54:00\", \"DepartTimeUTC\": \"2019-06-13T01:25:00\", \"Duration\": \"2h 29m\", \"FlightNum\": 1888, \"FlyFrom\": \"ATL\", \"FlyTo\": \"JFK\", \"Price\": 101, \"AsOfDate\": 20190519, \"rn\": 1}], [{\"Airline\": \"B6\", \"ArrivalTimeUTC\": \"2019-06-03T17:08:00\", \"DepartTimeUTC\": \"2019-06-03T12:03:00\", \"Duration\": \"5h 5m\", \"FlightNum\": 1533, \"FlyFrom\": \"JFK\", \"FlyTo\": \"CTG\", \"Price\": 277, \"AsOfDate\": 20190519, \"rn\": 1}, {\"Airline\": \"DL\", \"ArrivalTimeUTC\": \"2019-06-08T23:01:00\", \"DepartTimeUTC\": \"2019-06-08T18:50:00\", \"Duration\": \"4h 11m\", \"FlightNum\": 984, \"FlyFrom\": \"CTG\", \"FlyTo\": \"ATL\", \"Price\": 502, \"AsOfDate\": 20190519, \"rn\": 1}, {\"Airline\": \"DL\", \"ArrivalTimeUTC\": \"2019-06-13T02:50:00\", \"DepartTimeUTC\": \"2019-06-13T00:30:00\", \"Duration\": \"2h 20m\", \"FlightNum\": 2186, \"FlyFrom\": \"ATL\", \"FlyTo\": \"LGA\", \"Price\": 101, \"AsOfDate\": 20190519, \"rn\": 1}], [{\"Airline\": \"F9\", \"ArrivalTimeUTC\": \"2019-06-02T00:42:00\", \"DepartTimeUTC\": \"2019-06-01T21:57:00\", \"Duration\": \"2h 45m\", \"FlightNum\": 1511, \"FlyFrom\": \"LGA\", \"FlyTo\": \"ATL\", \"Price\": 86, \"AsOfDate\": 20190519, \"rn\": 1}, {\"Airline\": \"DL\", \"ArrivalTimeUTC\": \"2019-06-08T17:50:00\", \"DepartTimeUTC\": \"2019-06-08T13:49:00\", \"Duration\": \"4h 1m\", \"FlightNum\": 989, \"FlyFrom\": \"ATL\", \"FlyTo\": \"CTG\", \"Price\": 375, \"AsOfDate\": 20190519, \"rn\": 1}, {\"Airline\": \"B6\", \"ArrivalTimeUTC\": \"2019-06-14T23:18:00\", \"DepartTimeUTC\": \"2019-06-14T18:10:00\", \"Duration\": \"5h 8m\", \"FlightNum\": 1532, \"FlyFrom\": \"CTG\", \"FlyTo\": \"JFK\", \"Price\": 428, \"AsOfDate\": 20190519, \"rn\": 1}], [{\"Airline\": \"UA\", \"ArrivalTimeUTC\": \"2019-06-04T17:39:00\", \"DepartTimeUTC\": \"2019-06-04T14:30:00\", \"Duration\": \"3h 9m\", \"FlightNum\": 832, \"FlyFrom\": \"EWR\", \"FlyTo\": \"FLL\", \"Price\": 69, \"AsOfDate\": 20190519, \"rn\": 1}, {\"Airline\": \"NK\", \"ArrivalTimeUTC\": \"2019-06-07T17:37:00\", \"DepartTimeUTC\": \"2019-06-07T14:47:00\", \"Duration\": \"2h 50m\", \"FlightNum\": 859, \"FlyFrom\": \"FLL\", \"FlyTo\": \"CTG\", \"Price\": 107, \"AsOfDate\": 20190519, \"rn\": 1}, {\"Airline\": \"VH\", \"ArrivalTimeUTC\": \"2019-06-11T23:09:00\", \"DepartTimeUTC\": \"2019-06-11T21:55:00\", \"Duration\": \"1h 14m\", \"FlightNum\": 8127, \"FlyFrom\": \"CTG\", \"FlyTo\": \"MDE\", \"Price\": 31, \"AsOfDate\": 20190519, \"rn\": 1}, {\"Airline\": \"AV\", \"ArrivalTimeUTC\": \"2019-06-14T10:00:00\", \"DepartTimeUTC\": \"2019-06-14T04:30:00\", \"Duration\": \"5h 30m\", \"FlightNum\": 42, \"FlyFrom\": \"MDE\", \"FlyTo\": \"JFK\", \"Price\": 764, \"AsOfDate\": 20190519, \"rn\": 1}], [{\"Airline\": \"B6\", \"ArrivalTimeUTC\": \"2019-06-03T17:08:00\", \"DepartTimeUTC\": \"2019-06-03T12:03:00\", \"Duration\": \"5h 5m\", \"FlightNum\": 1533, \"FlyFrom\": \"JFK\", \"FlyTo\": \"CTG\", \"Price\": 277, \"AsOfDate\": 20190519, \"rn\": 1}, {\"Airline\": \"VH\", \"ArrivalTimeUTC\": \"2019-06-07T02:48:00\", \"DepartTimeUTC\": \"2019-06-07T01:18:00\", \"Duration\": \"1h 30m\", \"FlightNum\": 8291, \"FlyFrom\": \"CTG\", \"FlyTo\": \"BOG\", \"Price\": 27, \"AsOfDate\": 20190519, \"rn\": 1}, {\"Airline\": \"UA\", \"ArrivalTimeUTC\": \"2019-06-14T10:15:00\", \"DepartTimeUTC\": \"2019-06-14T04:15:00\", \"Duration\": \"6h 0m\", \"FlightNum\": 1559, \"FlyFrom\": \"BOG\", \"FlyTo\": \"EWR\", \"Price\": 668, \"AsOfDate\": 20190519, \"rn\": 1}], [{\"Airline\": \"B6\", \"ArrivalTimeUTC\": \"2019-06-04T16:18:00\", \"DepartTimeUTC\": \"2019-06-04T13:03:00\", \"Duration\": \"3h 15m\", \"FlightNum\": 1701, \"FlyFrom\": \"JFK\", \"FlyTo\": \"FLL\", \"Price\": 86, \"AsOfDate\": 20190519, \"rn\": 1}, {\"Airline\": \"NK\", \"ArrivalTimeUTC\": \"2019-06-07T17:37:00\", \"DepartTimeUTC\": \"2019-06-07T14:47:00\", \"Duration\": \"2h 50m\", \"FlightNum\": 859, \"FlyFrom\": \"FLL\", \"FlyTo\": \"CTG\", \"Price\": 107, \"AsOfDate\": 20190519, \"rn\": 1}, {\"Airline\": \"VH\", \"ArrivalTimeUTC\": \"2019-06-11T23:09:00\", \"DepartTimeUTC\": \"2019-06-11T21:55:00\", \"Duration\": \"1h 14m\", \"FlightNum\": 8127, \"FlyFrom\": \"CTG\", \"FlyTo\": \"MDE\", \"Price\": 31, \"AsOfDate\": 20190519, \"rn\": 1}, {\"Airline\": \"AV\", \"ArrivalTimeUTC\": \"2019-06-14T10:00:00\", \"DepartTimeUTC\": \"2019-06-14T04:30:00\", \"Duration\": \"5h 30m\", \"FlightNum\": 42, \"FlyFrom\": \"MDE\", \"FlyTo\": \"JFK\", \"Price\": 764, \"AsOfDate\": 20190519, \"rn\": 1}], [{\"Airline\": \"AV\", \"ArrivalTimeUTC\": \"2019-06-01T23:45:00\", \"DepartTimeUTC\": \"2019-06-01T17:55:00\", \"Duration\": \"5h 50m\", \"FlightNum\": 211, \"FlyFrom\": \"JFK\", \"FlyTo\": \"BOG\", \"Price\": 675, \"AsOfDate\": 20190519, \"rn\": 1}, {\"Airline\": \"VH\", \"ArrivalTimeUTC\": \"2019-06-11T22:53:00\", \"DepartTimeUTC\": \"2019-06-11T21:18:00\", \"Duration\": \"1h 35m\", \"FlightNum\": 6782, \"FlyFrom\": \"BOG\", \"FlyTo\": \"CTG\", \"Price\": 27, \"AsOfDate\": 20190519, \"rn\": 1}, {\"Airline\": \"B6\", \"ArrivalTimeUTC\": \"2019-06-14T23:18:00\", \"DepartTimeUTC\": \"2019-06-14T18:10:00\", \"Duration\": \"5h 8m\", \"FlightNum\": 1532, \"FlyFrom\": \"CTG\", \"FlyTo\": \"JFK\", \"Price\": 428, \"AsOfDate\": 20190519, \"rn\": 1}], [{\"Airline\": \"B6\", \"ArrivalTimeUTC\": \"2019-06-03T17:08:00\", \"DepartTimeUTC\": \"2019-06-03T12:03:00\", \"Duration\": \"5h 5m\", \"FlightNum\": 1533, \"FlyFrom\": \"JFK\", \"FlyTo\": \"CTG\", \"Price\": 277, \"AsOfDate\": 20190519, \"rn\": 1}, {\"Airline\": \"VH\", \"ArrivalTimeUTC\": \"2019-06-07T02:48:00\", \"DepartTimeUTC\": \"2019-06-07T01:18:00\", \"Duration\": \"1h 30m\", \"FlightNum\": 8291, \"FlyFrom\": \"CTG\", \"FlyTo\": \"BOG\", \"Price\": 27, \"AsOfDate\": 20190519, \"rn\": 1}, {\"Airline\": \"AV\", \"ArrivalTimeUTC\": \"2019-06-12T23:55:00\", \"DepartTimeUTC\": \"2019-06-12T18:00:00\", \"Duration\": \"5h 55m\", \"FlightNum\": 244, \"FlyFrom\": \"BOG\", \"FlyTo\": \"JFK\", \"Price\": 829, \"AsOfDate\": 20190519, \"rn\": 1}], [{\"Airline\": \"UA\", \"ArrivalTimeUTC\": \"2019-06-05T02:35:00\", \"DepartTimeUTC\": \"2019-06-04T18:35:00\", \"Duration\": \"8h 0m\", \"FlightNum\": 886, \"FlyFrom\": \"EWR\", \"FlyTo\": \"LIM\", \"Price\": 653, \"AsOfDate\": 20190519, \"rn\": 1}, {\"Airline\": \"LA\", \"ArrivalTimeUTC\": \"2019-06-09T22:07:00\", \"DepartTimeUTC\": \"2019-06-09T18:17:00\", \"Duration\": \"3h 50m\", \"FlightNum\": 2448, \"FlyFrom\": \"LIM\", \"FlyTo\": \"CTG\", \"Price\": 347, \"AsOfDate\": 20190519, \"rn\": 1}, {\"Airline\": \"NK\", \"ArrivalTimeUTC\": \"2019-06-12T02:51:00\", \"DepartTimeUTC\": \"2019-06-11T23:40:00\", \"Duration\": \"3h 11m\", \"FlightNum\": 1858, \"FlyFrom\": \"CTG\", \"FlyTo\": \"MCO\", \"Price\": 165, \"AsOfDate\": 20190519, \"rn\": 1}, {\"Airline\": \"UA\", \"ArrivalTimeUTC\": \"2019-06-14T13:53:00\", \"DepartTimeUTC\": \"2019-06-14T11:15:00\", \"Duration\": \"2h 38m\", \"FlightNum\": 2032, \"FlyFrom\": \"MCO\", \"FlyTo\": \"EWR\", \"Price\": 93, \"AsOfDate\": 20190519, \"rn\": 1}], [{\"Airline\": \"UA\", \"ArrivalTimeUTC\": \"2019-06-05T02:35:00\", \"DepartTimeUTC\": \"2019-06-04T18:35:00\", \"Duration\": \"8h 0m\", \"FlightNum\": 886, \"FlyFrom\": \"EWR\", \"FlyTo\": \"LIM\", \"Price\": 653, \"AsOfDate\": 20190519, \"rn\": 1}, {\"Airline\": \"LA\", \"ArrivalTimeUTC\": \"2019-06-09T22:07:00\", \"DepartTimeUTC\": \"2019-06-09T18:17:00\", \"Duration\": \"3h 50m\", \"FlightNum\": 2448, \"FlyFrom\": \"LIM\", \"FlyTo\": \"CTG\", \"Price\": 347, \"AsOfDate\": 20190519, \"rn\": 1}, {\"Airline\": \"NK\", \"ArrivalTimeUTC\": \"2019-06-12T02:51:00\", \"DepartTimeUTC\": \"2019-06-11T23:40:00\", \"Duration\": \"3h 11m\", \"FlightNum\": 1858, \"FlyFrom\": \"CTG\", \"FlyTo\": \"MCO\", \"Price\": 165, \"AsOfDate\": 20190519, \"rn\": 1}, {\"Airline\": \"DL\", \"ArrivalTimeUTC\": \"2019-06-15T02:55:00\", \"DepartTimeUTC\": \"2019-06-14T23:59:00\", \"Duration\": \"2h 56m\", \"FlightNum\": 2279, \"FlyFrom\": \"MCO\", \"FlyTo\": \"JFK\", \"Price\": 106, \"AsOfDate\": 20190519, \"rn\": 1}], [{\"Airline\": \"UA\", \"ArrivalTimeUTC\": \"2019-06-05T02:35:00\", \"DepartTimeUTC\": \"2019-06-04T18:35:00\", \"Duration\": \"8h 0m\", \"FlightNum\": 886, \"FlyFrom\": \"EWR\", \"FlyTo\": \"LIM\", \"Price\": 653, \"AsOfDate\": 20190519, \"rn\": 1}, {\"Airline\": \"LA\", \"ArrivalTimeUTC\": \"2019-06-09T22:07:00\", \"DepartTimeUTC\": \"2019-06-09T18:17:00\", \"Duration\": \"3h 50m\", \"FlightNum\": 2448, \"FlyFrom\": \"LIM\", \"FlyTo\": \"CTG\", \"Price\": 347, \"AsOfDate\": 20190519, \"rn\": 1}, {\"Airline\": \"NK\", \"ArrivalTimeUTC\": \"2019-06-12T02:51:00\", \"DepartTimeUTC\": \"2019-06-11T23:40:00\", \"Duration\": \"3h 11m\", \"FlightNum\": 1858, \"FlyFrom\": \"CTG\", \"FlyTo\": \"MCO\", \"Price\": 165, \"AsOfDate\": 20190519, \"rn\": 1}, {\"Airline\": \"DL\", \"ArrivalTimeUTC\": \"2019-06-15T01:12:00\", \"DepartTimeUTC\": \"2019-06-14T22:29:00\", \"Duration\": \"2h 43m\", \"FlightNum\": 870, \"FlyFrom\": \"MCO\", \"FlyTo\": \"LGA\", \"Price\": 106, \"AsOfDate\": 20190519, \"rn\": 1}], [{\"Airline\": \"UA\", \"ArrivalTimeUTC\": \"2019-06-05T02:35:00\", \"DepartTimeUTC\": \"2019-06-04T18:35:00\", \"Duration\": \"8h 0m\", \"FlightNum\": 886, \"FlyFrom\": \"EWR\", \"FlyTo\": \"LIM\", \"Price\": 653, \"AsOfDate\": 20190519, \"rn\": 1}, {\"Airline\": \"LA\", \"ArrivalTimeUTC\": \"2019-06-09T22:07:00\", \"DepartTimeUTC\": \"2019-06-09T18:17:00\", \"Duration\": \"3h 50m\", \"FlightNum\": 2448, \"FlyFrom\": \"LIM\", \"FlyTo\": \"CTG\", \"Price\": 347, \"AsOfDate\": 20190519, \"rn\": 1}, {\"Airline\": \"B6\", \"ArrivalTimeUTC\": \"2019-06-14T23:18:00\", \"DepartTimeUTC\": \"2019-06-14T18:10:00\", \"Duration\": \"5h 8m\", \"FlightNum\": 1532, \"FlyFrom\": \"CTG\", \"FlyTo\": \"JFK\", \"Price\": 428, \"AsOfDate\": 20190519, \"rn\": 1}], [{\"Airline\": \"B6\", \"ArrivalTimeUTC\": \"2019-06-03T17:08:00\", \"DepartTimeUTC\": \"2019-06-03T12:03:00\", \"Duration\": \"5h 5m\", \"FlightNum\": 1533, \"FlyFrom\": \"JFK\", \"FlyTo\": \"CTG\", \"Price\": 277, \"AsOfDate\": 20190519, \"rn\": 1}, {\"Airline\": \"KL\", \"ArrivalTimeUTC\": \"2019-06-07T08:35:00\", \"DepartTimeUTC\": \"2019-06-06T22:50:00\", \"Duration\": \"9h 45m\", \"FlightNum\": 749, \"FlyFrom\": \"CTG\", \"FlyTo\": \"AMS\", \"Price\": 1204, \"AsOfDate\": 20190519, \"rn\": 1}, {\"Airline\": \"DY\", \"ArrivalTimeUTC\": \"2019-06-11T21:30:00\", \"DepartTimeUTC\": \"2019-06-11T13:15:00\", \"Duration\": \"8h 15m\", \"FlightNum\": 7701, \"FlyFrom\": \"AMS\", \"FlyTo\": \"JFK\", \"Price\": 212, \"AsOfDate\": 20190519, \"rn\": 1}], [{\"Airline\": \"B6\", \"ArrivalTimeUTC\": \"2019-06-03T17:08:00\", \"DepartTimeUTC\": \"2019-06-03T12:03:00\", \"Duration\": \"5h 5m\", \"FlightNum\": 1533, \"FlyFrom\": \"JFK\", \"FlyTo\": \"CTG\", \"Price\": 277, \"AsOfDate\": 20190519, \"rn\": 1}, {\"Airline\": \"KL\", \"ArrivalTimeUTC\": \"2019-06-07T08:35:00\", \"DepartTimeUTC\": \"2019-06-06T22:50:00\", \"Duration\": \"9h 45m\", \"FlightNum\": 749, \"FlyFrom\": \"CTG\", \"FlyTo\": \"AMS\", \"Price\": 1204, \"AsOfDate\": 20190519, \"rn\": 1}, {\"Airline\": \"UA\", \"ArrivalTimeUTC\": \"2019-06-11T15:35:00\", \"DepartTimeUTC\": \"2019-06-11T07:15:00\", \"Duration\": \"8h 20m\", \"FlightNum\": 71, \"FlyFrom\": \"AMS\", \"FlyTo\": \"EWR\", \"Price\": 396, \"AsOfDate\": 20190519, \"rn\": 1}]]'"
      ]
     },
     "execution_count": 10,
     "metadata": {},
     "output_type": "execute_result"
    }
   ],
   "source": [
    "def datetime_handler(x):\n",
    "    if isinstance(x, datetime.datetime):\n",
    "        return x.isoformat()\n",
    "    return x\n",
    "\n",
    "\n",
    "start = datetime.datetime(2019,6,1)\n",
    "end = datetime.datetime(2019,6,15)\n",
    "flights = fs.FlightService().get_flights(start,end)\n",
    "# flights[\"ArrivalTimeUTC\"] = flights[\"ArrivalTimeUTC\"]\n",
    "# flights[\"DepartTimeUTC\"] = flights[\"DepartTimeUTC\"]\n",
    "\n",
    "paths = reco.RecommendationService().get_recommendations(flights,[\"JFK\",\"EWR\",\"LGA\"],[\"CTG\"],[],2,10)\n",
    "paths\n",
    "\n",
    "list_of_paths = []\n",
    "for path in paths:\n",
    "    list_of_flights = []\n",
    "    for flights in path:\n",
    "        list_of_flights.append(flights.to_dict())\n",
    "    list_of_paths.append(list_of_flights)\n",
    "list_of_paths = json.dumps(list_of_paths, default=datetime_handler)\n",
    "list_of_paths\n",
    "\n",
    "    \n",
    "    "
   ]
  },
  {
   "cell_type": "code",
   "execution_count": 17,
   "metadata": {},
   "outputs": [
    {
     "ename": "SyntaxError",
     "evalue": "invalid syntax (<ipython-input-17-0162c3217f7c>, line 1)",
     "output_type": "error",
     "traceback": [
      "\u001b[1;36m  File \u001b[1;32m\"<ipython-input-17-0162c3217f7c>\"\u001b[1;36m, line \u001b[1;32m1\u001b[0m\n\u001b[1;33m    flights =\u001b[0m\n\u001b[1;37m              ^\u001b[0m\n\u001b[1;31mSyntaxError\u001b[0m\u001b[1;31m:\u001b[0m invalid syntax\n"
     ]
    }
   ],
   "source": [
    "flights = \n",
    "\n",
    "result = reco.RecommendationService().get_recommendations(flights, sources, targets, exclusions,2,10)\n",
    "result.to_json(orient='records')"
   ]
  },
  {
   "cell_type": "code",
   "execution_count": 4,
   "metadata": {},
   "outputs": [
    {
     "ename": "TypeError",
     "evalue": "__init__() missing 1 required positional argument: 'asOfDate'",
     "output_type": "error",
     "traceback": [
      "\u001b[1;31m---------------------------------------------------------------------------\u001b[0m",
      "\u001b[1;31mTypeError\u001b[0m                                 Traceback (most recent call last)",
      "\u001b[1;32m<ipython-input-4-bc3bbfc708eb>\u001b[0m in \u001b[0;36m<module>\u001b[1;34m\u001b[0m\n\u001b[0;32m      1\u001b[0m f1 = Flight(\"JFK\", \"LHR\", 1000, \"DU\", \"\", datetime.datetime(2019, 5, 10, 11, 0, 0),\n\u001b[1;32m----> 2\u001b[1;33m             datetime.datetime(2019, 5, 10, 6, 0, 0), \"123\")\n\u001b[0m\u001b[0;32m      3\u001b[0m f2 = Flight(\"JFK\", \"MIA\", 50, \"DU\", \"\", datetime.datetime(2019, 5, 5, 11, 0, 0),\n\u001b[0;32m      4\u001b[0m             datetime.datetime(2019, 5, 5, 6, 0, 0), \"456\")\n\u001b[0;32m      5\u001b[0m f3 = Flight(\"MIA\", \"LHR\", 100, \"DU\", \"\", datetime.datetime(2019, 5, 8, 11, 0, 0),\n",
      "\u001b[1;31mTypeError\u001b[0m: __init__() missing 1 required positional argument: 'asOfDate'"
     ]
    }
   ],
   "source": [
    "f1 = Flight(\"JFK\", \"LHR\", 1000, \"DU\", \"\", datetime.datetime(2019, 5, 10, 11, 0, 0),\n",
    "            datetime.datetime(2019, 5, 10, 6, 0, 0), \"123\")\n",
    "f2 = Flight(\"JFK\", \"MIA\", 50, \"DU\", \"\", datetime.datetime(2019, 5, 5, 11, 0, 0),\n",
    "            datetime.datetime(2019, 5, 5, 6, 0, 0), \"456\")\n",
    "f3 = Flight(\"MIA\", \"LHR\", 100, \"DU\", \"\", datetime.datetime(2019, 5, 8, 11, 0, 0),\n",
    "            datetime.datetime(2019, 5, 8, 6, 0, 0), \"456\")\n",
    "f4 = Flight(\"LHR\", \"EWR\", 450, \"DU\", \"\", datetime.datetime(2019, 5, 18, 11, 0, 0),\n",
    "            datetime.datetime(2019, 5, 18, 6, 0, 0), \"123\")\n",
    "f5 = Flight(\"LHR\", \"ATL\", 200, \"DU\", \"\", datetime.datetime(2019, 5, 18, 11, 0, 0),\n",
    "            datetime.datetime(2019, 5, 18, 6, 0, 0), \"123\")\n",
    "f6 = Flight(\"ATL\", \"JFK\", 300, \"DU\", \"\", datetime.datetime(2019, 5, 20, 11, 0, 0),\n",
    "            datetime.datetime(2019, 5, 20, 6, 0, 0), \"123\")\n",
    "f7 = Flight(\"EWR\", \"LHR\", 1200, \"DU\", \"\", datetime.datetime(2019, 5, 16, 11, 0, 0),\n",
    "            datetime.datetime(2019, 5, 16, 6, 0, 0), \"123\")\n",
    "f8 = Flight(\"JFK\", \"LHR\", 1200, \"DU\", \"\", datetime.datetime(2019, 5, 16, 11, 0, 0), #dup of f1 but higher price\n",
    "            datetime.datetime(2019, 5, 16, 6, 0, 0), \"123\")\n",
    "f9 = Flight(\"JFK\", \"LHR\", 5, \"DU\", \"\", datetime.datetime(2019, 5, 10, 11, 0, 0), #dup of f1 but on same day\n",
    "            datetime.datetime(2019, 5, 10, 6, 0, 0), \"123\")\n",
    "fs = [f1, f2, f3, f4, f5, f6, f7, f8,f9]\n",
    "flights = pd.DataFrame.from_records([f.to_dict() for f in fs])\n",
    "df = pd.DataFrame()\n",
    "\n",
    "sources = [\"JFK\",\"EWR\"]\n",
    "targets = [\"LHR\"]\n",
    "exclusions = []\n",
    "\n",
    "df = pd.DataFrame()\n"
   ]
  },
  {
   "cell_type": "code",
   "execution_count": 6,
   "metadata": {},
   "outputs": [
    {
     "ename": "NameError",
     "evalue": "name 'flights' is not defined",
     "output_type": "error",
     "traceback": [
      "\u001b[1;31m---------------------------------------------------------------------------\u001b[0m",
      "\u001b[1;31mNameError\u001b[0m                                 Traceback (most recent call last)",
      "\u001b[1;32m<ipython-input-6-bf59dde7926a>\u001b[0m in \u001b[0;36m<module>\u001b[1;34m\u001b[0m\n\u001b[0;32m      1\u001b[0m \u001b[0mstart\u001b[0m \u001b[1;33m=\u001b[0m \u001b[0mdatetime\u001b[0m\u001b[1;33m.\u001b[0m\u001b[0mdatetime\u001b[0m\u001b[1;33m(\u001b[0m\u001b[1;36m2019\u001b[0m\u001b[1;33m,\u001b[0m\u001b[1;36m5\u001b[0m\u001b[1;33m,\u001b[0m\u001b[1;36m1\u001b[0m\u001b[1;33m)\u001b[0m\u001b[1;33m\u001b[0m\u001b[0m\n\u001b[0;32m      2\u001b[0m \u001b[0mend\u001b[0m \u001b[1;33m=\u001b[0m \u001b[0mdatetime\u001b[0m\u001b[1;33m.\u001b[0m\u001b[0mdatetime\u001b[0m\u001b[1;33m(\u001b[0m\u001b[1;36m2019\u001b[0m\u001b[1;33m,\u001b[0m\u001b[1;36m5\u001b[0m\u001b[1;33m,\u001b[0m\u001b[1;36m15\u001b[0m\u001b[1;33m)\u001b[0m\u001b[1;33m\u001b[0m\u001b[0m\n\u001b[1;32m----> 3\u001b[1;33m \u001b[0mflights_2\u001b[0m \u001b[1;33m=\u001b[0m \u001b[0mflights\u001b[0m\u001b[1;33m[\u001b[0m\u001b[1;33m(\u001b[0m\u001b[0mflights\u001b[0m\u001b[1;33m[\u001b[0m\u001b[1;34m'DepartTimeUTC'\u001b[0m\u001b[1;33m]\u001b[0m \u001b[1;33m>\u001b[0m \u001b[0mstart\u001b[0m\u001b[1;33m)\u001b[0m \u001b[1;33m&\u001b[0m \u001b[1;33m(\u001b[0m\u001b[0mflights\u001b[0m\u001b[1;33m[\u001b[0m\u001b[1;34m'DepartTimeUTC'\u001b[0m\u001b[1;33m]\u001b[0m \u001b[1;33m<\u001b[0m \u001b[0mend\u001b[0m\u001b[1;33m)\u001b[0m  \u001b[1;33m]\u001b[0m\u001b[1;33m\u001b[0m\u001b[0m\n\u001b[0m\u001b[0;32m      4\u001b[0m \u001b[0mflights_2\u001b[0m\u001b[1;33m\u001b[0m\u001b[0m\n",
      "\u001b[1;31mNameError\u001b[0m: name 'flights' is not defined"
     ]
    }
   ],
   "source": [
    "start = datetime.datetime(2019,5,1)\n",
    "end = datetime.datetime(2019,5,15)\n",
    "flights_2 = flights[(flights['DepartTimeUTC'] > start) & (flights['DepartTimeUTC'] < end)  ]\n",
    "flights_2"
   ]
  },
  {
   "cell_type": "code",
   "execution_count": 1,
   "metadata": {},
   "outputs": [
    {
     "ename": "NameError",
     "evalue": "name 'reco' is not defined",
     "output_type": "error",
     "traceback": [
      "\u001b[1;31m---------------------------------------------------------------------------\u001b[0m",
      "\u001b[1;31mNameError\u001b[0m                                 Traceback (most recent call last)",
      "\u001b[1;32m<ipython-input-1-1af2713ff23c>\u001b[0m in \u001b[0;36m<module>\u001b[1;34m\u001b[0m\n\u001b[1;32m----> 1\u001b[1;33m \u001b[0mresult\u001b[0m \u001b[1;33m=\u001b[0m \u001b[0mreco\u001b[0m\u001b[1;33m.\u001b[0m\u001b[0mRecommendationService\u001b[0m\u001b[1;33m(\u001b[0m\u001b[1;33m)\u001b[0m\u001b[1;33m.\u001b[0m\u001b[0mget_recommendations\u001b[0m\u001b[1;33m(\u001b[0m\u001b[0mflights\u001b[0m\u001b[1;33m,\u001b[0m \u001b[0msources\u001b[0m\u001b[1;33m,\u001b[0m \u001b[0mtargets\u001b[0m\u001b[1;33m,\u001b[0m \u001b[0mexclusions\u001b[0m\u001b[1;33m,\u001b[0m\u001b[1;36m2\u001b[0m\u001b[1;33m,\u001b[0m\u001b[1;36m10\u001b[0m\u001b[1;33m)\u001b[0m\u001b[1;33m\u001b[0m\u001b[0m\n\u001b[0m\u001b[0;32m      2\u001b[0m \u001b[0mresult\u001b[0m\u001b[1;33m.\u001b[0m\u001b[0mto_json\u001b[0m\u001b[1;33m(\u001b[0m\u001b[0morient\u001b[0m\u001b[1;33m=\u001b[0m\u001b[1;34m'records'\u001b[0m\u001b[1;33m)\u001b[0m\u001b[1;33m\u001b[0m\u001b[0m\n",
      "\u001b[1;31mNameError\u001b[0m: name 'reco' is not defined"
     ]
    }
   ],
   "source": [
    "result = reco.RecommendationService().get_recommendations(flights, sources, targets, exclusions,2,10)\n",
    "result.to_json(orient='records')"
   ]
  },
  {
   "cell_type": "code",
   "execution_count": 31,
   "metadata": {},
   "outputs": [
    {
     "data": {
      "text/html": [
       "<div>\n",
       "<style scoped>\n",
       "    .dataframe tbody tr th:only-of-type {\n",
       "        vertical-align: middle;\n",
       "    }\n",
       "\n",
       "    .dataframe tbody tr th {\n",
       "        vertical-align: top;\n",
       "    }\n",
       "\n",
       "    .dataframe thead th {\n",
       "        text-align: right;\n",
       "    }\n",
       "</style>\n",
       "<table border=\"1\" class=\"dataframe\">\n",
       "  <thead>\n",
       "    <tr style=\"text-align: right;\">\n",
       "      <th></th>\n",
       "      <th>current_loc</th>\n",
       "      <th>current_path</th>\n",
       "      <th>state</th>\n",
       "    </tr>\n",
       "  </thead>\n",
       "  <tbody>\n",
       "    <tr>\n",
       "      <th>0</th>\n",
       "      <td>JFK</td>\n",
       "      <td>[]</td>\n",
       "      <td>FlightState.at_source</td>\n",
       "    </tr>\n",
       "    <tr>\n",
       "      <th>1</th>\n",
       "      <td>EWR</td>\n",
       "      <td>[]</td>\n",
       "      <td>FlightState.at_source</td>\n",
       "    </tr>\n",
       "  </tbody>\n",
       "</table>\n",
       "</div>"
      ],
      "text/plain": [
       "  current_loc current_path                  state\n",
       "0         JFK           []  FlightState.at_source\n",
       "1         EWR           []  FlightState.at_source"
      ]
     },
     "execution_count": 31,
     "metadata": {},
     "output_type": "execute_result"
    }
   ],
   "source": [
    "q = reco.RecommendationService().get_initial_queue(sources)\n",
    "items = pd.DataFrame.from_records([f.to_dict() for f in list(q.queue)])\n",
    "\n",
    "assert(len(items) == 2)\n",
    "items"
   ]
  },
  {
   "cell_type": "code",
   "execution_count": 14,
   "metadata": {},
   "outputs": [
    {
     "data": {
      "text/html": [
       "<div>\n",
       "<style scoped>\n",
       "    .dataframe tbody tr th:only-of-type {\n",
       "        vertical-align: middle;\n",
       "    }\n",
       "\n",
       "    .dataframe tbody tr th {\n",
       "        vertical-align: top;\n",
       "    }\n",
       "\n",
       "    .dataframe thead th {\n",
       "        text-align: right;\n",
       "    }\n",
       "</style>\n",
       "<table border=\"1\" class=\"dataframe\">\n",
       "  <thead>\n",
       "    <tr style=\"text-align: right;\">\n",
       "      <th></th>\n",
       "    </tr>\n",
       "  </thead>\n",
       "  <tbody>\n",
       "  </tbody>\n",
       "</table>\n",
       "</div>"
      ],
      "text/plain": [
       "Empty DataFrame\n",
       "Columns: []\n",
       "Index: []"
      ]
     },
     "execution_count": 14,
     "metadata": {},
     "output_type": "execute_result"
    }
   ],
   "source": [
    "\n",
    "current = q.get()\n",
    "if current.state == reco.FlightState.at_completion:\n",
    "    df = df.append(current.to_dict(), ignore_index=True)\n",
    "else:\n",
    "    reco.RecommendationService().process(q, current, flights, exclusions, targets, sources, 2, 10)\n",
    "\n",
    "items = pd.DataFrame.from_records([f.to_dict() for f in list(q.queue)])\n",
    "\n",
    "items\n"
   ]
  },
  {
   "cell_type": "code",
   "execution_count": 15,
   "metadata": {},
   "outputs": [
    {
     "data": {
      "text/html": [
       "<div>\n",
       "<style scoped>\n",
       "    .dataframe tbody tr th:only-of-type {\n",
       "        vertical-align: middle;\n",
       "    }\n",
       "\n",
       "    .dataframe tbody tr th {\n",
       "        vertical-align: top;\n",
       "    }\n",
       "\n",
       "    .dataframe thead th {\n",
       "        text-align: right;\n",
       "    }\n",
       "</style>\n",
       "<table border=\"1\" class=\"dataframe\">\n",
       "  <thead>\n",
       "    <tr style=\"text-align: right;\">\n",
       "      <th></th>\n",
       "      <th>current_loc</th>\n",
       "      <th>current_path</th>\n",
       "      <th>state</th>\n",
       "    </tr>\n",
       "  </thead>\n",
       "  <tbody>\n",
       "    <tr>\n",
       "      <th>0</th>\n",
       "      <td>EWR</td>\n",
       "      <td>[[DU, 2019-05-10 11:00:00, 2019-05-10 06:00:00...</td>\n",
       "      <td>FlightState.at_completion</td>\n",
       "    </tr>\n",
       "    <tr>\n",
       "      <th>1</th>\n",
       "      <td>EWR</td>\n",
       "      <td>[[DU, 2019-05-05 11:00:00, 2019-05-05 06:00:00...</td>\n",
       "      <td>FlightState.at_completion</td>\n",
       "    </tr>\n",
       "  </tbody>\n",
       "</table>\n",
       "</div>"
      ],
      "text/plain": [
       "  current_loc                                       current_path  \\\n",
       "0         EWR  [[DU, 2019-05-10 11:00:00, 2019-05-10 06:00:00...   \n",
       "1         EWR  [[DU, 2019-05-05 11:00:00, 2019-05-05 06:00:00...   \n",
       "\n",
       "                       state  \n",
       "0  FlightState.at_completion  \n",
       "1  FlightState.at_completion  "
      ]
     },
     "execution_count": 15,
     "metadata": {},
     "output_type": "execute_result"
    }
   ],
   "source": [
    "#df = df.append(current.to_dict(),ignore_index=True)\n",
    "df\n",
    "\n"
   ]
  },
  {
   "cell_type": "code",
   "execution_count": 33,
   "metadata": {},
   "outputs": [
    {
     "data": {
      "text/html": [
       "<div>\n",
       "<style scoped>\n",
       "    .dataframe tbody tr th:only-of-type {\n",
       "        vertical-align: middle;\n",
       "    }\n",
       "\n",
       "    .dataframe tbody tr th {\n",
       "        vertical-align: top;\n",
       "    }\n",
       "\n",
       "    .dataframe thead th {\n",
       "        text-align: right;\n",
       "    }\n",
       "</style>\n",
       "<table border=\"1\" class=\"dataframe\">\n",
       "  <thead>\n",
       "    <tr style=\"text-align: right;\">\n",
       "      <th></th>\n",
       "      <th>Airline</th>\n",
       "      <th>ArrivalTimeUTC</th>\n",
       "      <th>DepartTimeUTC</th>\n",
       "      <th>Duration</th>\n",
       "      <th>FlightNum</th>\n",
       "      <th>FlyFrom</th>\n",
       "      <th>FlyTo</th>\n",
       "      <th>Price</th>\n",
       "      <th>rn</th>\n",
       "    </tr>\n",
       "  </thead>\n",
       "  <tbody>\n",
       "    <tr>\n",
       "      <th>3</th>\n",
       "      <td>DU</td>\n",
       "      <td>2019-05-18 11:00:00</td>\n",
       "      <td>2019-05-18 06:00:00</td>\n",
       "      <td></td>\n",
       "      <td>123</td>\n",
       "      <td>LHR</td>\n",
       "      <td>EWR</td>\n",
       "      <td>450</td>\n",
       "      <td>1</td>\n",
       "    </tr>\n",
       "    <tr>\n",
       "      <th>4</th>\n",
       "      <td>DU</td>\n",
       "      <td>2019-05-18 11:00:00</td>\n",
       "      <td>2019-05-18 06:00:00</td>\n",
       "      <td></td>\n",
       "      <td>123</td>\n",
       "      <td>LHR</td>\n",
       "      <td>ATL</td>\n",
       "      <td>200</td>\n",
       "      <td>1</td>\n",
       "    </tr>\n",
       "  </tbody>\n",
       "</table>\n",
       "</div>"
      ],
      "text/plain": [
       "  Airline      ArrivalTimeUTC       DepartTimeUTC Duration FlightNum FlyFrom  \\\n",
       "3      DU 2019-05-18 11:00:00 2019-05-18 06:00:00                123     LHR   \n",
       "4      DU 2019-05-18 11:00:00 2019-05-18 06:00:00                123     LHR   \n",
       "\n",
       "  FlyTo  Price  rn  \n",
       "3   EWR    450   1  \n",
       "4   ATL    200   1  "
      ]
     },
     "execution_count": 33,
     "metadata": {},
     "output_type": "execute_result"
    }
   ],
   "source": [
    "#at target\n",
    "fs = flights\n",
    "prev_arrival_time = current.current_path[len(current.current_path)-1][\"ArrivalTimeUTC\"]\n",
    "int_destinations = fs[fs[\"FlyFrom\"].isin(targets)][\"FlyTo\"].unique()\n",
    "f1 = fs[(fs[\"FlyFrom\"] == current.current_loc) & \n",
    "        (fs[\"DepartTimeUTC\"] > prev_arrival_time + datetime.timedelta(days=2)) & \n",
    "        (fs[\"DepartTimeUTC\"] < prev_arrival_time + datetime.timedelta(days=8)) &\n",
    "        (~fs[\"FlyTo\"].isin(exclusions)) & \n",
    "        ((fs[\"FlyTo\"].isin(int_destinations)) | (fs[\"FlyTo\"].isin(sources)))]\n",
    "f1 = f1.assign(rn = f1.sort_values(['Price']).groupby(['FlyTo']).cumcount()+1).query('rn < 2')\n",
    "\n",
    "\n"
   ]
  },
  {
   "cell_type": "code",
   "execution_count": 73,
   "metadata": {},
   "outputs": [
    {
     "data": {
      "text/plain": [
       "[Airline                            DU\n",
       " ArrivalTimeUTC    2019-05-05 11:00:00\n",
       " DepartTimeUTC     2019-05-05 06:00:00\n",
       " Duration                             \n",
       " FlightNum                         456\n",
       " FlyFrom                           JFK\n",
       " FlyTo                             MIA\n",
       " Price                              50\n",
       " rn                                  1\n",
       " Name: 1, dtype: object]"
      ]
     },
     "execution_count": 73,
     "metadata": {},
     "output_type": "execute_result"
    }
   ],
   "source": [
    "current.current_path[]\n"
   ]
  },
  {
   "cell_type": "code",
   "execution_count": 19,
   "metadata": {},
   "outputs": [
    {
     "ename": "AttributeError",
     "evalue": "'FlightItem' object has no attribute 'print'",
     "output_type": "error",
     "traceback": [
      "\u001b[1;31m---------------------------------------------------------------------------\u001b[0m",
      "\u001b[1;31mAttributeError\u001b[0m                            Traceback (most recent call last)",
      "\u001b[1;32m<ipython-input-19-faca00e6806f>\u001b[0m in \u001b[0;36m<module>\u001b[1;34m\u001b[0m\n\u001b[0;32m     15\u001b[0m \u001b[1;33m\u001b[0m\u001b[0m\n\u001b[0;32m     16\u001b[0m \u001b[1;32mfor\u001b[0m \u001b[0melem\u001b[0m \u001b[1;32min\u001b[0m \u001b[0mlist\u001b[0m\u001b[1;33m(\u001b[0m\u001b[0mq\u001b[0m\u001b[1;33m.\u001b[0m\u001b[0mqueue\u001b[0m\u001b[1;33m)\u001b[0m\u001b[1;33m:\u001b[0m\u001b[1;33m\u001b[0m\u001b[0m\n\u001b[1;32m---> 17\u001b[1;33m     \u001b[0mprint\u001b[0m\u001b[1;33m(\u001b[0m\u001b[0melem\u001b[0m\u001b[1;33m.\u001b[0m\u001b[0mprint\u001b[0m\u001b[1;33m(\u001b[0m\u001b[1;33m)\u001b[0m\u001b[1;33m)\u001b[0m\u001b[1;33m\u001b[0m\u001b[0m\n\u001b[0m",
      "\u001b[1;31mAttributeError\u001b[0m: 'FlightItem' object has no attribute 'print'"
     ]
    }
   ],
   "source": [
    "#at int1\n",
    "\n",
    "prev_arrival_time = current.current_path[len(current.current_path)-1][\"ArrivalTimeUTC\"]\n",
    "fs = flights\n",
    "f1 = fs[(fs[\"FlyFrom\"] == current.current_loc) & (fs[\"FlyTo\"].isin(targets)) & \n",
    "        (fs[\"DepartTimeUTC\"] > prev_arrival_time + datetime.timedelta(days=2)) & \n",
    "        (fs[\"DepartTimeUTC\"] < prev_arrival_time + datetime.timedelta(days=3))]\n",
    "f1 = f1.assign(rn = f1.sort_values(['Price']).groupby(['FlyTo']).cumcount()+1).query('rn < 2')\n",
    "\n",
    "for index, first_stop in f1.iterrows():\n",
    "    new_path = current.current_path.copy()\n",
    "    new_path.append(first_stop)\n",
    "\n",
    "    q.put(reco.FlightItem(first_stop[\"FlyTo\"], new_path, reco.FlightState.at_target))\n",
    "    \n",
    "for elem in list(q.queue):\n",
    "    print(str(elem))"
   ]
  },
  {
   "cell_type": "code",
   "execution_count": null,
   "metadata": {},
   "outputs": [],
   "source": []
  }
 ],
 "metadata": {
  "kernelspec": {
   "display_name": "Python 3",
   "language": "python",
   "name": "python3"
  },
  "language_info": {
   "codemirror_mode": {
    "name": "ipython",
    "version": 3
   },
   "file_extension": ".py",
   "mimetype": "text/x-python",
   "name": "python",
   "nbconvert_exporter": "python",
   "pygments_lexer": "ipython3",
   "version": "3.7.0"
  }
 },
 "nbformat": 4,
 "nbformat_minor": 2
}
