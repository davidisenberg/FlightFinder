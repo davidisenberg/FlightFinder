{
 "cells": [
  {
   "cell_type": "code",
   "execution_count": 40,
   "metadata": {},
   "outputs": [],
   "source": [
    "import sys\n",
    "sys.path.append(\"../\")\n",
    "import data.directrepository as dr\n",
    "import data.flight_repository as fr\n",
    "import pyarrow as pa\n",
    "import pyarrow.parquet as pq\n",
    "import pandas as pd\n",
    "import importlib as im\n",
    "import queue\n",
    "from enum import Enum\n",
    "sys.path.append(\"../../\")\n",
    "import services.core.recoservice_df as reco\n",
    "im.reload(reco)\n",
    "from model.flight import Flight\n",
    "from model.direct import Direct\n",
    "import datetime\n",
    "\n",
    "\n",
    "#im.reload(data.directrepository)\n",
    "#im.reload(data.flight_repository)"
   ]
  },
  {
   "cell_type": "code",
   "execution_count": 41,
   "metadata": {},
   "outputs": [],
   "source": [
    "f1 = Flight(\"JFK\", \"LHR\", 1000, \"DU\", \"\", datetime.datetime(2019, 5, 10, 11, 0, 0),\n",
    "            datetime.datetime(2019, 5, 10, 6, 0, 0), \"123\")\n",
    "f2 = Flight(\"JFK\", \"MIA\", 50, \"DU\", \"\", datetime.datetime(2019, 5, 5, 11, 0, 0),\n",
    "            datetime.datetime(2019, 5, 5, 6, 0, 0), \"456\")\n",
    "f3 = Flight(\"MIA\", \"LHR\", 100, \"DU\", \"\", datetime.datetime(2019, 5, 8, 11, 0, 0),\n",
    "            datetime.datetime(2019, 5, 8, 6, 0, 0), \"456\")\n",
    "f4 = Flight(\"LHR\", \"EWR\", 450, \"DU\", \"\", datetime.datetime(2019, 5, 18, 11, 0, 0),\n",
    "            datetime.datetime(2019, 5, 18, 6, 0, 0), \"123\")\n",
    "f5 = Flight(\"LHR\", \"ATL\", 200, \"DU\", \"\", datetime.datetime(2019, 5, 18, 11, 0, 0),\n",
    "            datetime.datetime(2019, 5, 18, 6, 0, 0), \"123\")\n",
    "f6 = Flight(\"ATL\", \"JFK\", 300, \"DU\", \"\", datetime.datetime(2019, 5, 20, 11, 0, 0),\n",
    "            datetime.datetime(2019, 5, 20, 6, 0, 0), \"123\")\n",
    "f7 = Flight(\"EWR\", \"LHR\", 1200, \"DU\", \"\", datetime.datetime(2019, 5, 16, 11, 0, 0),\n",
    "            datetime.datetime(2019, 5, 16, 6, 0, 0), \"123\")\n",
    "f8 = Flight(\"JFK\", \"LHR\", 1200, \"DU\", \"\", datetime.datetime(2019, 5, 16, 11, 0, 0), #dup of f1 but higher price\n",
    "            datetime.datetime(2019, 5, 16, 6, 0, 0), \"123\")\n",
    "f9 = Flight(\"JFK\", \"LHR\", 5, \"DU\", \"\", datetime.datetime(2019, 5, 10, 11, 0, 0), #dup of f1 but on same day\n",
    "            datetime.datetime(2019, 5, 10, 6, 0, 0), \"123\")\n",
    "fs = [f1, f2, f3, f4, f5, f6, f7, f8,f9]\n",
    "flights = pd.DataFrame.from_records([f.to_dict() for f in fs])\n",
    "df = pd.DataFrame()\n",
    "\n",
    "sources = [\"JFK\",\"EWR\"]\n",
    "targets = [\"LHR\"]\n",
    "exclusions = []\n",
    "\n",
    "df = pd.DataFrame()\n"
   ]
  },
  {
   "cell_type": "code",
   "execution_count": 42,
   "metadata": {},
   "outputs": [
    {
     "data": {
      "text/plain": [
       "'[{\"current_loc\":\"EWR\",\"current_path\":[[\"DU\",1557486000000,1557468000000,\"\",\"123\",\"JFK\",\"LHR\",5,1],[\"DU\",1558177200000,1558159200000,\"\",\"123\",\"LHR\",\"EWR\",450,1]],\"state\":{\"name\":\"at_completion\"}},{\"current_loc\":\"EWR\",\"current_path\":[[\"DU\",1557054000000,1557036000000,\"\",\"456\",\"JFK\",\"MIA\",50,1],[\"DU\",1557313200000,1557295200000,\"\",\"456\",\"MIA\",\"LHR\",100,1],[\"DU\",1558177200000,1558159200000,\"\",\"123\",\"LHR\",\"EWR\",450,1]],\"state\":{\"name\":\"at_completion\"}}]'"
      ]
     },
     "execution_count": 42,
     "metadata": {},
     "output_type": "execute_result"
    }
   ],
   "source": [
    "result = reco.RecommendationService().get_recommendations(flights, sources, targets, exclusions,2,10)\n",
    "result.to_json(orient='records')"
   ]
  },
  {
   "cell_type": "code",
   "execution_count": 31,
   "metadata": {},
   "outputs": [
    {
     "data": {
      "text/html": [
       "<div>\n",
       "<style scoped>\n",
       "    .dataframe tbody tr th:only-of-type {\n",
       "        vertical-align: middle;\n",
       "    }\n",
       "\n",
       "    .dataframe tbody tr th {\n",
       "        vertical-align: top;\n",
       "    }\n",
       "\n",
       "    .dataframe thead th {\n",
       "        text-align: right;\n",
       "    }\n",
       "</style>\n",
       "<table border=\"1\" class=\"dataframe\">\n",
       "  <thead>\n",
       "    <tr style=\"text-align: right;\">\n",
       "      <th></th>\n",
       "      <th>current_loc</th>\n",
       "      <th>current_path</th>\n",
       "      <th>state</th>\n",
       "    </tr>\n",
       "  </thead>\n",
       "  <tbody>\n",
       "    <tr>\n",
       "      <th>0</th>\n",
       "      <td>JFK</td>\n",
       "      <td>[]</td>\n",
       "      <td>FlightState.at_source</td>\n",
       "    </tr>\n",
       "    <tr>\n",
       "      <th>1</th>\n",
       "      <td>EWR</td>\n",
       "      <td>[]</td>\n",
       "      <td>FlightState.at_source</td>\n",
       "    </tr>\n",
       "  </tbody>\n",
       "</table>\n",
       "</div>"
      ],
      "text/plain": [
       "  current_loc current_path                  state\n",
       "0         JFK           []  FlightState.at_source\n",
       "1         EWR           []  FlightState.at_source"
      ]
     },
     "execution_count": 31,
     "metadata": {},
     "output_type": "execute_result"
    }
   ],
   "source": [
    "q = reco.RecommendationService().get_initial_queue(sources)\n",
    "items = pd.DataFrame.from_records([f.to_dict() for f in list(q.queue)])\n",
    "\n",
    "assert(len(items) == 2)\n",
    "items"
   ]
  },
  {
   "cell_type": "code",
   "execution_count": 14,
   "metadata": {},
   "outputs": [
    {
     "data": {
      "text/html": [
       "<div>\n",
       "<style scoped>\n",
       "    .dataframe tbody tr th:only-of-type {\n",
       "        vertical-align: middle;\n",
       "    }\n",
       "\n",
       "    .dataframe tbody tr th {\n",
       "        vertical-align: top;\n",
       "    }\n",
       "\n",
       "    .dataframe thead th {\n",
       "        text-align: right;\n",
       "    }\n",
       "</style>\n",
       "<table border=\"1\" class=\"dataframe\">\n",
       "  <thead>\n",
       "    <tr style=\"text-align: right;\">\n",
       "      <th></th>\n",
       "    </tr>\n",
       "  </thead>\n",
       "  <tbody>\n",
       "  </tbody>\n",
       "</table>\n",
       "</div>"
      ],
      "text/plain": [
       "Empty DataFrame\n",
       "Columns: []\n",
       "Index: []"
      ]
     },
     "execution_count": 14,
     "metadata": {},
     "output_type": "execute_result"
    }
   ],
   "source": [
    "\n",
    "current = q.get()\n",
    "if current.state == reco.FlightState.at_completion:\n",
    "    df = df.append(current.to_dict(), ignore_index=True)\n",
    "else:\n",
    "    reco.RecommendationService().process(q, current, flights, exclusions, targets, sources, 2, 10)\n",
    "\n",
    "items = pd.DataFrame.from_records([f.to_dict() for f in list(q.queue)])\n",
    "\n",
    "items\n"
   ]
  },
  {
   "cell_type": "code",
   "execution_count": 15,
   "metadata": {},
   "outputs": [
    {
     "data": {
      "text/html": [
       "<div>\n",
       "<style scoped>\n",
       "    .dataframe tbody tr th:only-of-type {\n",
       "        vertical-align: middle;\n",
       "    }\n",
       "\n",
       "    .dataframe tbody tr th {\n",
       "        vertical-align: top;\n",
       "    }\n",
       "\n",
       "    .dataframe thead th {\n",
       "        text-align: right;\n",
       "    }\n",
       "</style>\n",
       "<table border=\"1\" class=\"dataframe\">\n",
       "  <thead>\n",
       "    <tr style=\"text-align: right;\">\n",
       "      <th></th>\n",
       "      <th>current_loc</th>\n",
       "      <th>current_path</th>\n",
       "      <th>state</th>\n",
       "    </tr>\n",
       "  </thead>\n",
       "  <tbody>\n",
       "    <tr>\n",
       "      <th>0</th>\n",
       "      <td>EWR</td>\n",
       "      <td>[[DU, 2019-05-10 11:00:00, 2019-05-10 06:00:00...</td>\n",
       "      <td>FlightState.at_completion</td>\n",
       "    </tr>\n",
       "    <tr>\n",
       "      <th>1</th>\n",
       "      <td>EWR</td>\n",
       "      <td>[[DU, 2019-05-05 11:00:00, 2019-05-05 06:00:00...</td>\n",
       "      <td>FlightState.at_completion</td>\n",
       "    </tr>\n",
       "  </tbody>\n",
       "</table>\n",
       "</div>"
      ],
      "text/plain": [
       "  current_loc                                       current_path  \\\n",
       "0         EWR  [[DU, 2019-05-10 11:00:00, 2019-05-10 06:00:00...   \n",
       "1         EWR  [[DU, 2019-05-05 11:00:00, 2019-05-05 06:00:00...   \n",
       "\n",
       "                       state  \n",
       "0  FlightState.at_completion  \n",
       "1  FlightState.at_completion  "
      ]
     },
     "execution_count": 15,
     "metadata": {},
     "output_type": "execute_result"
    }
   ],
   "source": [
    "#df = df.append(current.to_dict(),ignore_index=True)\n",
    "df\n",
    "\n"
   ]
  },
  {
   "cell_type": "code",
   "execution_count": 33,
   "metadata": {},
   "outputs": [
    {
     "data": {
      "text/html": [
       "<div>\n",
       "<style scoped>\n",
       "    .dataframe tbody tr th:only-of-type {\n",
       "        vertical-align: middle;\n",
       "    }\n",
       "\n",
       "    .dataframe tbody tr th {\n",
       "        vertical-align: top;\n",
       "    }\n",
       "\n",
       "    .dataframe thead th {\n",
       "        text-align: right;\n",
       "    }\n",
       "</style>\n",
       "<table border=\"1\" class=\"dataframe\">\n",
       "  <thead>\n",
       "    <tr style=\"text-align: right;\">\n",
       "      <th></th>\n",
       "      <th>Airline</th>\n",
       "      <th>ArrivalTimeUTC</th>\n",
       "      <th>DepartTimeUTC</th>\n",
       "      <th>Duration</th>\n",
       "      <th>FlightNum</th>\n",
       "      <th>FlyFrom</th>\n",
       "      <th>FlyTo</th>\n",
       "      <th>Price</th>\n",
       "      <th>rn</th>\n",
       "    </tr>\n",
       "  </thead>\n",
       "  <tbody>\n",
       "    <tr>\n",
       "      <th>3</th>\n",
       "      <td>DU</td>\n",
       "      <td>2019-05-18 11:00:00</td>\n",
       "      <td>2019-05-18 06:00:00</td>\n",
       "      <td></td>\n",
       "      <td>123</td>\n",
       "      <td>LHR</td>\n",
       "      <td>EWR</td>\n",
       "      <td>450</td>\n",
       "      <td>1</td>\n",
       "    </tr>\n",
       "    <tr>\n",
       "      <th>4</th>\n",
       "      <td>DU</td>\n",
       "      <td>2019-05-18 11:00:00</td>\n",
       "      <td>2019-05-18 06:00:00</td>\n",
       "      <td></td>\n",
       "      <td>123</td>\n",
       "      <td>LHR</td>\n",
       "      <td>ATL</td>\n",
       "      <td>200</td>\n",
       "      <td>1</td>\n",
       "    </tr>\n",
       "  </tbody>\n",
       "</table>\n",
       "</div>"
      ],
      "text/plain": [
       "  Airline      ArrivalTimeUTC       DepartTimeUTC Duration FlightNum FlyFrom  \\\n",
       "3      DU 2019-05-18 11:00:00 2019-05-18 06:00:00                123     LHR   \n",
       "4      DU 2019-05-18 11:00:00 2019-05-18 06:00:00                123     LHR   \n",
       "\n",
       "  FlyTo  Price  rn  \n",
       "3   EWR    450   1  \n",
       "4   ATL    200   1  "
      ]
     },
     "execution_count": 33,
     "metadata": {},
     "output_type": "execute_result"
    }
   ],
   "source": [
    "#at target\n",
    "fs = flights\n",
    "prev_arrival_time = current.current_path[len(current.current_path)-1][\"ArrivalTimeUTC\"]\n",
    "int_destinations = fs[fs[\"FlyFrom\"].isin(targets)][\"FlyTo\"].unique()\n",
    "f1 = fs[(fs[\"FlyFrom\"] == current.current_loc) & \n",
    "        (fs[\"DepartTimeUTC\"] > prev_arrival_time + datetime.timedelta(days=2)) & \n",
    "        (fs[\"DepartTimeUTC\"] < prev_arrival_time + datetime.timedelta(days=8)) &\n",
    "        (~fs[\"FlyTo\"].isin(exclusions)) & \n",
    "        ((fs[\"FlyTo\"].isin(int_destinations)) | (fs[\"FlyTo\"].isin(sources)))]\n",
    "f1 = f1.assign(rn = f1.sort_values(['Price']).groupby(['FlyTo']).cumcount()+1).query('rn < 2')\n",
    "\n",
    "\n"
   ]
  },
  {
   "cell_type": "code",
   "execution_count": 73,
   "metadata": {},
   "outputs": [
    {
     "data": {
      "text/plain": [
       "[Airline                            DU\n",
       " ArrivalTimeUTC    2019-05-05 11:00:00\n",
       " DepartTimeUTC     2019-05-05 06:00:00\n",
       " Duration                             \n",
       " FlightNum                         456\n",
       " FlyFrom                           JFK\n",
       " FlyTo                             MIA\n",
       " Price                              50\n",
       " rn                                  1\n",
       " Name: 1, dtype: object]"
      ]
     },
     "execution_count": 73,
     "metadata": {},
     "output_type": "execute_result"
    }
   ],
   "source": [
    "current.current_path[]\n"
   ]
  },
  {
   "cell_type": "code",
   "execution_count": 19,
   "metadata": {},
   "outputs": [
    {
     "ename": "AttributeError",
     "evalue": "'FlightItem' object has no attribute 'print'",
     "output_type": "error",
     "traceback": [
      "\u001b[1;31m---------------------------------------------------------------------------\u001b[0m",
      "\u001b[1;31mAttributeError\u001b[0m                            Traceback (most recent call last)",
      "\u001b[1;32m<ipython-input-19-faca00e6806f>\u001b[0m in \u001b[0;36m<module>\u001b[1;34m\u001b[0m\n\u001b[0;32m     15\u001b[0m \u001b[1;33m\u001b[0m\u001b[0m\n\u001b[0;32m     16\u001b[0m \u001b[1;32mfor\u001b[0m \u001b[0melem\u001b[0m \u001b[1;32min\u001b[0m \u001b[0mlist\u001b[0m\u001b[1;33m(\u001b[0m\u001b[0mq\u001b[0m\u001b[1;33m.\u001b[0m\u001b[0mqueue\u001b[0m\u001b[1;33m)\u001b[0m\u001b[1;33m:\u001b[0m\u001b[1;33m\u001b[0m\u001b[0m\n\u001b[1;32m---> 17\u001b[1;33m     \u001b[0mprint\u001b[0m\u001b[1;33m(\u001b[0m\u001b[0melem\u001b[0m\u001b[1;33m.\u001b[0m\u001b[0mprint\u001b[0m\u001b[1;33m(\u001b[0m\u001b[1;33m)\u001b[0m\u001b[1;33m)\u001b[0m\u001b[1;33m\u001b[0m\u001b[0m\n\u001b[0m",
      "\u001b[1;31mAttributeError\u001b[0m: 'FlightItem' object has no attribute 'print'"
     ]
    }
   ],
   "source": [
    "#at int1\n",
    "\n",
    "prev_arrival_time = current.current_path[len(current.current_path)-1][\"ArrivalTimeUTC\"]\n",
    "fs = flights\n",
    "f1 = fs[(fs[\"FlyFrom\"] == current.current_loc) & (fs[\"FlyTo\"].isin(targets)) & \n",
    "        (fs[\"DepartTimeUTC\"] > prev_arrival_time + datetime.timedelta(days=2)) & \n",
    "        (fs[\"DepartTimeUTC\"] < prev_arrival_time + datetime.timedelta(days=3))]\n",
    "f1 = f1.assign(rn = f1.sort_values(['Price']).groupby(['FlyTo']).cumcount()+1).query('rn < 2')\n",
    "\n",
    "for index, first_stop in f1.iterrows():\n",
    "    new_path = current.current_path.copy()\n",
    "    new_path.append(first_stop)\n",
    "\n",
    "    q.put(reco.FlightItem(first_stop[\"FlyTo\"], new_path, reco.FlightState.at_target))\n",
    "    \n",
    "for elem in list(q.queue):\n",
    "    print(str(elem))"
   ]
  },
  {
   "cell_type": "code",
   "execution_count": null,
   "metadata": {},
   "outputs": [],
   "source": []
  }
 ],
 "metadata": {
  "kernelspec": {
   "display_name": "Python 3",
   "language": "python",
   "name": "python3"
  },
  "language_info": {
   "codemirror_mode": {
    "name": "ipython",
    "version": 3
   },
   "file_extension": ".py",
   "mimetype": "text/x-python",
   "name": "python",
   "nbconvert_exporter": "python",
   "pygments_lexer": "ipython3",
   "version": "3.7.0"
  }
 },
 "nbformat": 4,
 "nbformat_minor": 2
}
